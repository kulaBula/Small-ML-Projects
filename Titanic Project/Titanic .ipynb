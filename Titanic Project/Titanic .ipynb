{
 "cells": [
  {
   "cell_type": "markdown",
   "id": "35649881",
   "metadata": {},
   "source": [
    "# Titanic Project\n",
    "\n",
    "This notebook is my attempt to solve the Titanic problem from Kaggle: \n",
    "\n",
    ">https://www.kaggle.com/competitions/titanic/overview\n",
    "\n",
    "## 1. Problem definition\n",
    "\n",
    "Use ML to predict wheather a passanger survived the Titanic crash or not. \n",
    "\n",
    "## 2. Data\n",
    "\n",
    "I will be using data from Kaggle competition:\n",
    "\n",
    "> https://www.kaggle.com/competitions/titanic/data\n",
    "\n",
    "## 3. Evaluation Metrics \n",
    "\n",
    "I will be scoring my model using method required by Kaggle: accuracy\n",
    "\n",
    ">https://www.kaggle.com/competitions/titanic/overview/evaluation\n",
    "\n",
    "## 4. Features\n",
    "\n",
    "**Data dictionary:**\n",
    "\n",
    "* survival - Survival\t(0 = No, 1 = Yes)\n",
    "* pclass - Ticket class\t(1 = 1st, 2 = 2nd, 3 = 3rd)\n",
    "* sex - sex\t\n",
    "* Age\t- Age in years\t\n",
    "* sibsp -\tnumber of siblings / spouses aboard the Titanic\t\n",
    "* parch - number of parents / children aboard the Titanic\t\n",
    "* ticket - Ticket number\t\n",
    "* fare - Passenger fare\t\n",
    "* cabin - Cabin number\t\n",
    "* embarked - Port of Embarkation\tC = Cherbourg, Q = Queenstown, S = Southampton"
   ]
  },
  {
   "cell_type": "code",
   "execution_count": 1,
   "id": "bd78162f",
   "metadata": {},
   "outputs": [],
   "source": [
    "# Importing all the tools we will be using \n",
    "\n",
    "# Regular EDA (Exploratory data analysis) and ploting librarnies\n",
    "import numpy as np\n",
    "import pandas as pd\n",
    "import matplotlib.pyplot as plt\n",
    "import seaborn as sns\n",
    "\n",
    "#we want our plots to appear inside the notebook\n",
    "%matplotlib inline \n",
    "\n",
    "# StandardScaler\n",
    "from sklearn.preprocessing import StandardScaler\n",
    "\n",
    "# Model Evaluations\n",
    "from sklearn.model_selection import train_test_split, cross_val_score\n",
    "from sklearn.model_selection import RandomizedSearchCV, GridSearchCV\n",
    "from sklearn.metrics import confusion_matrix, classification_report\n",
    "from sklearn.metrics import precision_score, recall_score, f1_score\n",
    "from sklearn.metrics import RocCurveDisplay"
   ]
  },
  {
   "cell_type": "markdown",
   "id": "6d48b67a",
   "metadata": {},
   "source": [
    "Install Imbalanced-learn library (to do that turn this cell into code)\n",
    "\n",
    "pip install imbalanced-learn"
   ]
  },
  {
   "cell_type": "markdown",
   "id": "6477de67",
   "metadata": {},
   "source": [
    "## 5. Load and Explore the data"
   ]
  },
  {
   "cell_type": "code",
   "execution_count": 2,
   "id": "5c01f189",
   "metadata": {},
   "outputs": [
    {
     "data": {
      "text/html": [
       "<div>\n",
       "<style scoped>\n",
       "    .dataframe tbody tr th:only-of-type {\n",
       "        vertical-align: middle;\n",
       "    }\n",
       "\n",
       "    .dataframe tbody tr th {\n",
       "        vertical-align: top;\n",
       "    }\n",
       "\n",
       "    .dataframe thead th {\n",
       "        text-align: right;\n",
       "    }\n",
       "</style>\n",
       "<table border=\"1\" class=\"dataframe\">\n",
       "  <thead>\n",
       "    <tr style=\"text-align: right;\">\n",
       "      <th></th>\n",
       "      <th>PassengerId</th>\n",
       "      <th>Survived</th>\n",
       "      <th>Pclass</th>\n",
       "      <th>Name</th>\n",
       "      <th>Sex</th>\n",
       "      <th>Age</th>\n",
       "      <th>SibSp</th>\n",
       "      <th>Parch</th>\n",
       "      <th>Ticket</th>\n",
       "      <th>Fare</th>\n",
       "      <th>Cabin</th>\n",
       "      <th>Embarked</th>\n",
       "    </tr>\n",
       "  </thead>\n",
       "  <tbody>\n",
       "    <tr>\n",
       "      <th>0</th>\n",
       "      <td>1</td>\n",
       "      <td>0</td>\n",
       "      <td>3</td>\n",
       "      <td>Braund, Mr. Owen Harris</td>\n",
       "      <td>male</td>\n",
       "      <td>22.0</td>\n",
       "      <td>1</td>\n",
       "      <td>0</td>\n",
       "      <td>A/5 21171</td>\n",
       "      <td>7.2500</td>\n",
       "      <td>NaN</td>\n",
       "      <td>S</td>\n",
       "    </tr>\n",
       "    <tr>\n",
       "      <th>1</th>\n",
       "      <td>2</td>\n",
       "      <td>1</td>\n",
       "      <td>1</td>\n",
       "      <td>Cumings, Mrs. John Bradley (Florence Briggs Th...</td>\n",
       "      <td>female</td>\n",
       "      <td>38.0</td>\n",
       "      <td>1</td>\n",
       "      <td>0</td>\n",
       "      <td>PC 17599</td>\n",
       "      <td>71.2833</td>\n",
       "      <td>C85</td>\n",
       "      <td>C</td>\n",
       "    </tr>\n",
       "    <tr>\n",
       "      <th>2</th>\n",
       "      <td>3</td>\n",
       "      <td>1</td>\n",
       "      <td>3</td>\n",
       "      <td>Heikkinen, Miss. Laina</td>\n",
       "      <td>female</td>\n",
       "      <td>26.0</td>\n",
       "      <td>0</td>\n",
       "      <td>0</td>\n",
       "      <td>STON/O2. 3101282</td>\n",
       "      <td>7.9250</td>\n",
       "      <td>NaN</td>\n",
       "      <td>S</td>\n",
       "    </tr>\n",
       "    <tr>\n",
       "      <th>3</th>\n",
       "      <td>4</td>\n",
       "      <td>1</td>\n",
       "      <td>1</td>\n",
       "      <td>Futrelle, Mrs. Jacques Heath (Lily May Peel)</td>\n",
       "      <td>female</td>\n",
       "      <td>35.0</td>\n",
       "      <td>1</td>\n",
       "      <td>0</td>\n",
       "      <td>113803</td>\n",
       "      <td>53.1000</td>\n",
       "      <td>C123</td>\n",
       "      <td>S</td>\n",
       "    </tr>\n",
       "    <tr>\n",
       "      <th>4</th>\n",
       "      <td>5</td>\n",
       "      <td>0</td>\n",
       "      <td>3</td>\n",
       "      <td>Allen, Mr. William Henry</td>\n",
       "      <td>male</td>\n",
       "      <td>35.0</td>\n",
       "      <td>0</td>\n",
       "      <td>0</td>\n",
       "      <td>373450</td>\n",
       "      <td>8.0500</td>\n",
       "      <td>NaN</td>\n",
       "      <td>S</td>\n",
       "    </tr>\n",
       "    <tr>\n",
       "      <th>...</th>\n",
       "      <td>...</td>\n",
       "      <td>...</td>\n",
       "      <td>...</td>\n",
       "      <td>...</td>\n",
       "      <td>...</td>\n",
       "      <td>...</td>\n",
       "      <td>...</td>\n",
       "      <td>...</td>\n",
       "      <td>...</td>\n",
       "      <td>...</td>\n",
       "      <td>...</td>\n",
       "      <td>...</td>\n",
       "    </tr>\n",
       "    <tr>\n",
       "      <th>886</th>\n",
       "      <td>887</td>\n",
       "      <td>0</td>\n",
       "      <td>2</td>\n",
       "      <td>Montvila, Rev. Juozas</td>\n",
       "      <td>male</td>\n",
       "      <td>27.0</td>\n",
       "      <td>0</td>\n",
       "      <td>0</td>\n",
       "      <td>211536</td>\n",
       "      <td>13.0000</td>\n",
       "      <td>NaN</td>\n",
       "      <td>S</td>\n",
       "    </tr>\n",
       "    <tr>\n",
       "      <th>887</th>\n",
       "      <td>888</td>\n",
       "      <td>1</td>\n",
       "      <td>1</td>\n",
       "      <td>Graham, Miss. Margaret Edith</td>\n",
       "      <td>female</td>\n",
       "      <td>19.0</td>\n",
       "      <td>0</td>\n",
       "      <td>0</td>\n",
       "      <td>112053</td>\n",
       "      <td>30.0000</td>\n",
       "      <td>B42</td>\n",
       "      <td>S</td>\n",
       "    </tr>\n",
       "    <tr>\n",
       "      <th>888</th>\n",
       "      <td>889</td>\n",
       "      <td>0</td>\n",
       "      <td>3</td>\n",
       "      <td>Johnston, Miss. Catherine Helen \"Carrie\"</td>\n",
       "      <td>female</td>\n",
       "      <td>NaN</td>\n",
       "      <td>1</td>\n",
       "      <td>2</td>\n",
       "      <td>W./C. 6607</td>\n",
       "      <td>23.4500</td>\n",
       "      <td>NaN</td>\n",
       "      <td>S</td>\n",
       "    </tr>\n",
       "    <tr>\n",
       "      <th>889</th>\n",
       "      <td>890</td>\n",
       "      <td>1</td>\n",
       "      <td>1</td>\n",
       "      <td>Behr, Mr. Karl Howell</td>\n",
       "      <td>male</td>\n",
       "      <td>26.0</td>\n",
       "      <td>0</td>\n",
       "      <td>0</td>\n",
       "      <td>111369</td>\n",
       "      <td>30.0000</td>\n",
       "      <td>C148</td>\n",
       "      <td>C</td>\n",
       "    </tr>\n",
       "    <tr>\n",
       "      <th>890</th>\n",
       "      <td>891</td>\n",
       "      <td>0</td>\n",
       "      <td>3</td>\n",
       "      <td>Dooley, Mr. Patrick</td>\n",
       "      <td>male</td>\n",
       "      <td>32.0</td>\n",
       "      <td>0</td>\n",
       "      <td>0</td>\n",
       "      <td>370376</td>\n",
       "      <td>7.7500</td>\n",
       "      <td>NaN</td>\n",
       "      <td>Q</td>\n",
       "    </tr>\n",
       "  </tbody>\n",
       "</table>\n",
       "<p>891 rows × 12 columns</p>\n",
       "</div>"
      ],
      "text/plain": [
       "     PassengerId  Survived  Pclass  \\\n",
       "0              1         0       3   \n",
       "1              2         1       1   \n",
       "2              3         1       3   \n",
       "3              4         1       1   \n",
       "4              5         0       3   \n",
       "..           ...       ...     ...   \n",
       "886          887         0       2   \n",
       "887          888         1       1   \n",
       "888          889         0       3   \n",
       "889          890         1       1   \n",
       "890          891         0       3   \n",
       "\n",
       "                                                  Name     Sex   Age  SibSp  \\\n",
       "0                              Braund, Mr. Owen Harris    male  22.0      1   \n",
       "1    Cumings, Mrs. John Bradley (Florence Briggs Th...  female  38.0      1   \n",
       "2                               Heikkinen, Miss. Laina  female  26.0      0   \n",
       "3         Futrelle, Mrs. Jacques Heath (Lily May Peel)  female  35.0      1   \n",
       "4                             Allen, Mr. William Henry    male  35.0      0   \n",
       "..                                                 ...     ...   ...    ...   \n",
       "886                              Montvila, Rev. Juozas    male  27.0      0   \n",
       "887                       Graham, Miss. Margaret Edith  female  19.0      0   \n",
       "888           Johnston, Miss. Catherine Helen \"Carrie\"  female   NaN      1   \n",
       "889                              Behr, Mr. Karl Howell    male  26.0      0   \n",
       "890                                Dooley, Mr. Patrick    male  32.0      0   \n",
       "\n",
       "     Parch            Ticket     Fare Cabin Embarked  \n",
       "0        0         A/5 21171   7.2500   NaN        S  \n",
       "1        0          PC 17599  71.2833   C85        C  \n",
       "2        0  STON/O2. 3101282   7.9250   NaN        S  \n",
       "3        0            113803  53.1000  C123        S  \n",
       "4        0            373450   8.0500   NaN        S  \n",
       "..     ...               ...      ...   ...      ...  \n",
       "886      0            211536  13.0000   NaN        S  \n",
       "887      0            112053  30.0000   B42        S  \n",
       "888      2        W./C. 6607  23.4500   NaN        S  \n",
       "889      0            111369  30.0000  C148        C  \n",
       "890      0            370376   7.7500   NaN        Q  \n",
       "\n",
       "[891 rows x 12 columns]"
      ]
     },
     "execution_count": 2,
     "metadata": {},
     "output_type": "execute_result"
    }
   ],
   "source": [
    "df = pd.read_csv(\"train.csv\")\n",
    "df"
   ]
  },
  {
   "cell_type": "markdown",
   "id": "265e4975",
   "metadata": {},
   "source": [
    "From the dataFrame we can see, that the `Survived` is our target column. We will need to remove all the missing values from this column. We will also have to figure out a way to handle `Names` and `Cabin` - I think we can just remove them, since encoding them will create too much chaos and we have other unique values in our dataset. We will also heve to encode `Sex` and `Embarked`. Idealy we want to create one function to take care of all the transformations."
   ]
  },
  {
   "cell_type": "code",
   "execution_count": 3,
   "id": "dd836b20",
   "metadata": {},
   "outputs": [
    {
     "data": {
      "text/plain": [
       "PassengerId      0\n",
       "Survived         0\n",
       "Pclass           0\n",
       "Name             0\n",
       "Sex              0\n",
       "Age            177\n",
       "SibSp            0\n",
       "Parch            0\n",
       "Ticket           0\n",
       "Fare             0\n",
       "Cabin          687\n",
       "Embarked         2\n",
       "dtype: int64"
      ]
     },
     "execution_count": 3,
     "metadata": {},
     "output_type": "execute_result"
    }
   ],
   "source": [
    "# Let's check how many missing values we have\n",
    "df.isna().sum()"
   ]
  },
  {
   "cell_type": "markdown",
   "id": "e337875c",
   "metadata": {},
   "source": [
    "We are missing a lot of rows in `Age` and `Cabin`columns. \n",
    "We can do the following to tacke this:\n",
    "* Fill the `Age` column with the median of age \n",
    "* Remove `Cabin` column (for now)"
   ]
  },
  {
   "cell_type": "code",
   "execution_count": 4,
   "id": "569965ac",
   "metadata": {},
   "outputs": [
    {
     "data": {
      "text/plain": [
       "0    549\n",
       "1    342\n",
       "Name: Survived, dtype: int64"
      ]
     },
     "execution_count": 4,
     "metadata": {},
     "output_type": "execute_result"
    }
   ],
   "source": [
    "# Let's find out how many survivors there are\n",
    "df[\"Survived\"].value_counts()"
   ]
  },
  {
   "cell_type": "code",
   "execution_count": 5,
   "id": "0c7fc9f5",
   "metadata": {},
   "outputs": [
    {
     "data": {
      "text/plain": [
       "PassengerId      int64\n",
       "Survived         int64\n",
       "Pclass           int64\n",
       "Name            object\n",
       "Sex             object\n",
       "Age            float64\n",
       "SibSp            int64\n",
       "Parch            int64\n",
       "Ticket          object\n",
       "Fare           float64\n",
       "Cabin           object\n",
       "Embarked        object\n",
       "dtype: object"
      ]
     },
     "execution_count": 5,
     "metadata": {},
     "output_type": "execute_result"
    }
   ],
   "source": [
    "df.dtypes"
   ]
  },
  {
   "cell_type": "markdown",
   "id": "17a8c8f7",
   "metadata": {},
   "source": [
    "### 5.1 Create data preprocessing function"
   ]
  },
  {
   "cell_type": "markdown",
   "id": "a66fcf2c",
   "metadata": {},
   "source": [
    "For more data analisys we will need to encode the data, so let's create a function that will:\n",
    "* Remove `Ticket`, `Name` and `Cabin`\n",
    "* Add an if statment to remove the survived dropna operation if the data frame is not a test set\n",
    "* Remove all missing rows where `Survived` has a missing value\n",
    "* Fil the `Age` column with the median of age\n",
    "* Encode missing `Embarked` values to `unknown`\n",
    "* Encode `Sex` and `Embarked` using `OneHotEncoder()`"
   ]
  },
  {
   "cell_type": "code",
   "execution_count": 6,
   "id": "119ad110",
   "metadata": {},
   "outputs": [],
   "source": [
    "def checkIfNaN(str):\n",
    "    return str != str\n",
    "def get_df_ready(df, isTestSet=False):\n",
    "    # Remove all the missing values from Survived column if the dataFrame is not a test set\n",
    "    if(isTestSet==False):\n",
    "        df.dropna(subset=[\"Survived\"], inplace=True) \n",
    "    \n",
    "    # Remove the Name and Ticket column\n",
    "    df = df.drop(\"Ticket\", axis=1)\n",
    "    df = df.drop(\"Name\", axis=1)\n",
    "    df = df.drop(\"Cabin\", axis=1)\n",
    "    \n",
    "    # Fill the missing values:\n",
    "    df[\"wasAgeMissing\"] = False\n",
    "    age_median = df[\"Age\"].median()\n",
    "    # Fill in the missing values with median        \n",
    "    df[\"Age\"].fillna(age_median, inplace=True)\n",
    "    # Add a column that indicated if the Age value was a NaN\n",
    "    for i in range(0,891):\n",
    "        if df[\"Age\"][i]== age_median:\n",
    "            df[\"wasAgeMissing\"][i] = True\n",
    "        else:\n",
    "            df[\"wasAgeMissing\"][i] = False\n",
    "    \n",
    "#     #Fill in the missing values of Cabin with unknown\n",
    "#     df[\"wasCabinMissing\"] = False\n",
    "#     df[\"Cabin\"].fillna(\"unknown\", inplace=True)\n",
    "#     for i in range(0,891):\n",
    "#         if df[\"Cabin\"][i]==\"unknown\":\n",
    "#             df[\"wasCabinMissing\"][i] = True\n",
    "#         else:\n",
    "#             df[\"wasCabinMissing\"][i] = False\n",
    "            \n",
    "    \n",
    "#     # Turn Sex and Embarked into categories dtype\n",
    "#     for content in df[\"Embarked\"]:\n",
    "#         if pd.api.types.is_string_dtype(content):\n",
    "#             df[\"Embarked\"] = pd.Categorical(df[\"Embarked\"])   \n",
    "            \n",
    "#     for label, content in df.items():\n",
    "#         if pd.api.types.is_string_dtype(content):\n",
    "#             df[label] = content.astype(\"category\").cat.as_ordered()\n",
    "\n",
    "#     # Turn Cabin into category\n",
    "#     df[\"Cabin\"] = df[\"Cabin\"].astype(\"category\")\n",
    "\n",
    "    df = pd.get_dummies(df, prefix=[\"Sex\", \"Embarked\"], columns=[\"Sex\", \"Embarked\"])\n",
    "    # Change 0 and 1 into True and false values \n",
    "    dummies_column_names = {\"Sex_female\", \"Sex_male\", \"Embarked_C\", \"Embarked_Q\", \"Embarked_S\"}\n",
    "    for i in range(0, 891):\n",
    "        for column in dummies_column_names:\n",
    "            if df[column][i] == 1:\n",
    "                df[column][i] = True\n",
    "            else:\n",
    "                df[column][i] = False\n",
    "    \n",
    "    # Make sure the dtype in these columns is bool\n",
    "    for column in dummies_column_names:\n",
    "        df[column] = df[column].astype(\"bool\")\n",
    "            \n",
    "    # return \n",
    "    return df"
   ]
  },
  {
   "cell_type": "code",
   "execution_count": 7,
   "id": "8fa31b88",
   "metadata": {},
   "outputs": [
    {
     "name": "stderr",
     "output_type": "stream",
     "text": [
      "C:\\Users\\jakub\\AppData\\Local\\Temp\\ipykernel_13416\\3211436174.py:23: SettingWithCopyWarning: \n",
      "A value is trying to be set on a copy of a slice from a DataFrame\n",
      "\n",
      "See the caveats in the documentation: https://pandas.pydata.org/pandas-docs/stable/user_guide/indexing.html#returning-a-view-versus-a-copy\n",
      "  df[\"wasAgeMissing\"][i] = False\n",
      "C:\\Users\\jakub\\AppData\\Local\\Temp\\ipykernel_13416\\3211436174.py:21: SettingWithCopyWarning: \n",
      "A value is trying to be set on a copy of a slice from a DataFrame\n",
      "\n",
      "See the caveats in the documentation: https://pandas.pydata.org/pandas-docs/stable/user_guide/indexing.html#returning-a-view-versus-a-copy\n",
      "  df[\"wasAgeMissing\"][i] = True\n",
      "C:\\Users\\jakub\\AppData\\Local\\Temp\\ipykernel_13416\\3211436174.py:55: SettingWithCopyWarning: \n",
      "A value is trying to be set on a copy of a slice from a DataFrame\n",
      "\n",
      "See the caveats in the documentation: https://pandas.pydata.org/pandas-docs/stable/user_guide/indexing.html#returning-a-view-versus-a-copy\n",
      "  df[column][i] = False\n",
      "C:\\Users\\jakub\\AppData\\Local\\Temp\\ipykernel_13416\\3211436174.py:53: SettingWithCopyWarning: \n",
      "A value is trying to be set on a copy of a slice from a DataFrame\n",
      "\n",
      "See the caveats in the documentation: https://pandas.pydata.org/pandas-docs/stable/user_guide/indexing.html#returning-a-view-versus-a-copy\n",
      "  df[column][i] = True\n"
     ]
    },
    {
     "name": "stdout",
     "output_type": "stream",
     "text": [
      "<class 'pandas.core.frame.DataFrame'>\n",
      "RangeIndex: 891 entries, 0 to 890\n",
      "Data columns (total 13 columns):\n",
      " #   Column         Non-Null Count  Dtype  \n",
      "---  ------         --------------  -----  \n",
      " 0   PassengerId    891 non-null    int64  \n",
      " 1   Survived       891 non-null    int64  \n",
      " 2   Pclass         891 non-null    int64  \n",
      " 3   Age            891 non-null    float64\n",
      " 4   SibSp          891 non-null    int64  \n",
      " 5   Parch          891 non-null    int64  \n",
      " 6   Fare           891 non-null    float64\n",
      " 7   wasAgeMissing  891 non-null    bool   \n",
      " 8   Sex_female     891 non-null    bool   \n",
      " 9   Sex_male       891 non-null    bool   \n",
      " 10  Embarked_C     891 non-null    bool   \n",
      " 11  Embarked_Q     891 non-null    bool   \n",
      " 12  Embarked_S     891 non-null    bool   \n",
      "dtypes: bool(6), float64(2), int64(5)\n",
      "memory usage: 54.1 KB\n"
     ]
    }
   ],
   "source": [
    "transformed_df = get_df_ready(df, isTestSet=False)\n",
    "transformed_df.info()"
   ]
  },
  {
   "cell_type": "code",
   "execution_count": 8,
   "id": "ad0ab32e",
   "metadata": {},
   "outputs": [
    {
     "data": {
      "text/plain": [
       "PassengerId        int64\n",
       "Survived           int64\n",
       "Pclass             int64\n",
       "Age              float64\n",
       "SibSp              int64\n",
       "Parch              int64\n",
       "Fare             float64\n",
       "wasAgeMissing       bool\n",
       "Sex_female          bool\n",
       "Sex_male            bool\n",
       "Embarked_C          bool\n",
       "Embarked_Q          bool\n",
       "Embarked_S          bool\n",
       "dtype: object"
      ]
     },
     "execution_count": 8,
     "metadata": {},
     "output_type": "execute_result"
    }
   ],
   "source": [
    "# Let's see if we still have any non-numerical data\n",
    "transformed_df.dtypes"
   ]
  },
  {
   "cell_type": "code",
   "execution_count": 9,
   "id": "2bec34ad",
   "metadata": {},
   "outputs": [
    {
     "data": {
      "text/html": [
       "<div>\n",
       "<style scoped>\n",
       "    .dataframe tbody tr th:only-of-type {\n",
       "        vertical-align: middle;\n",
       "    }\n",
       "\n",
       "    .dataframe tbody tr th {\n",
       "        vertical-align: top;\n",
       "    }\n",
       "\n",
       "    .dataframe thead th {\n",
       "        text-align: right;\n",
       "    }\n",
       "</style>\n",
       "<table border=\"1\" class=\"dataframe\">\n",
       "  <thead>\n",
       "    <tr style=\"text-align: right;\">\n",
       "      <th></th>\n",
       "      <th>PassengerId</th>\n",
       "      <th>Survived</th>\n",
       "      <th>Pclass</th>\n",
       "      <th>Age</th>\n",
       "      <th>SibSp</th>\n",
       "      <th>Parch</th>\n",
       "      <th>Fare</th>\n",
       "      <th>wasAgeMissing</th>\n",
       "      <th>Sex_female</th>\n",
       "      <th>Sex_male</th>\n",
       "      <th>Embarked_C</th>\n",
       "      <th>Embarked_Q</th>\n",
       "      <th>Embarked_S</th>\n",
       "    </tr>\n",
       "  </thead>\n",
       "  <tbody>\n",
       "    <tr>\n",
       "      <th>0</th>\n",
       "      <td>1</td>\n",
       "      <td>0</td>\n",
       "      <td>3</td>\n",
       "      <td>22.0</td>\n",
       "      <td>1</td>\n",
       "      <td>0</td>\n",
       "      <td>7.2500</td>\n",
       "      <td>False</td>\n",
       "      <td>False</td>\n",
       "      <td>True</td>\n",
       "      <td>False</td>\n",
       "      <td>False</td>\n",
       "      <td>True</td>\n",
       "    </tr>\n",
       "    <tr>\n",
       "      <th>1</th>\n",
       "      <td>2</td>\n",
       "      <td>1</td>\n",
       "      <td>1</td>\n",
       "      <td>38.0</td>\n",
       "      <td>1</td>\n",
       "      <td>0</td>\n",
       "      <td>71.2833</td>\n",
       "      <td>False</td>\n",
       "      <td>True</td>\n",
       "      <td>False</td>\n",
       "      <td>True</td>\n",
       "      <td>False</td>\n",
       "      <td>False</td>\n",
       "    </tr>\n",
       "    <tr>\n",
       "      <th>2</th>\n",
       "      <td>3</td>\n",
       "      <td>1</td>\n",
       "      <td>3</td>\n",
       "      <td>26.0</td>\n",
       "      <td>0</td>\n",
       "      <td>0</td>\n",
       "      <td>7.9250</td>\n",
       "      <td>False</td>\n",
       "      <td>True</td>\n",
       "      <td>False</td>\n",
       "      <td>False</td>\n",
       "      <td>False</td>\n",
       "      <td>True</td>\n",
       "    </tr>\n",
       "    <tr>\n",
       "      <th>3</th>\n",
       "      <td>4</td>\n",
       "      <td>1</td>\n",
       "      <td>1</td>\n",
       "      <td>35.0</td>\n",
       "      <td>1</td>\n",
       "      <td>0</td>\n",
       "      <td>53.1000</td>\n",
       "      <td>False</td>\n",
       "      <td>True</td>\n",
       "      <td>False</td>\n",
       "      <td>False</td>\n",
       "      <td>False</td>\n",
       "      <td>True</td>\n",
       "    </tr>\n",
       "    <tr>\n",
       "      <th>4</th>\n",
       "      <td>5</td>\n",
       "      <td>0</td>\n",
       "      <td>3</td>\n",
       "      <td>35.0</td>\n",
       "      <td>0</td>\n",
       "      <td>0</td>\n",
       "      <td>8.0500</td>\n",
       "      <td>False</td>\n",
       "      <td>False</td>\n",
       "      <td>True</td>\n",
       "      <td>False</td>\n",
       "      <td>False</td>\n",
       "      <td>True</td>\n",
       "    </tr>\n",
       "    <tr>\n",
       "      <th>...</th>\n",
       "      <td>...</td>\n",
       "      <td>...</td>\n",
       "      <td>...</td>\n",
       "      <td>...</td>\n",
       "      <td>...</td>\n",
       "      <td>...</td>\n",
       "      <td>...</td>\n",
       "      <td>...</td>\n",
       "      <td>...</td>\n",
       "      <td>...</td>\n",
       "      <td>...</td>\n",
       "      <td>...</td>\n",
       "      <td>...</td>\n",
       "    </tr>\n",
       "    <tr>\n",
       "      <th>886</th>\n",
       "      <td>887</td>\n",
       "      <td>0</td>\n",
       "      <td>2</td>\n",
       "      <td>27.0</td>\n",
       "      <td>0</td>\n",
       "      <td>0</td>\n",
       "      <td>13.0000</td>\n",
       "      <td>False</td>\n",
       "      <td>False</td>\n",
       "      <td>True</td>\n",
       "      <td>False</td>\n",
       "      <td>False</td>\n",
       "      <td>True</td>\n",
       "    </tr>\n",
       "    <tr>\n",
       "      <th>887</th>\n",
       "      <td>888</td>\n",
       "      <td>1</td>\n",
       "      <td>1</td>\n",
       "      <td>19.0</td>\n",
       "      <td>0</td>\n",
       "      <td>0</td>\n",
       "      <td>30.0000</td>\n",
       "      <td>False</td>\n",
       "      <td>True</td>\n",
       "      <td>False</td>\n",
       "      <td>False</td>\n",
       "      <td>False</td>\n",
       "      <td>True</td>\n",
       "    </tr>\n",
       "    <tr>\n",
       "      <th>888</th>\n",
       "      <td>889</td>\n",
       "      <td>0</td>\n",
       "      <td>3</td>\n",
       "      <td>28.0</td>\n",
       "      <td>1</td>\n",
       "      <td>2</td>\n",
       "      <td>23.4500</td>\n",
       "      <td>True</td>\n",
       "      <td>True</td>\n",
       "      <td>False</td>\n",
       "      <td>False</td>\n",
       "      <td>False</td>\n",
       "      <td>True</td>\n",
       "    </tr>\n",
       "    <tr>\n",
       "      <th>889</th>\n",
       "      <td>890</td>\n",
       "      <td>1</td>\n",
       "      <td>1</td>\n",
       "      <td>26.0</td>\n",
       "      <td>0</td>\n",
       "      <td>0</td>\n",
       "      <td>30.0000</td>\n",
       "      <td>False</td>\n",
       "      <td>False</td>\n",
       "      <td>True</td>\n",
       "      <td>True</td>\n",
       "      <td>False</td>\n",
       "      <td>False</td>\n",
       "    </tr>\n",
       "    <tr>\n",
       "      <th>890</th>\n",
       "      <td>891</td>\n",
       "      <td>0</td>\n",
       "      <td>3</td>\n",
       "      <td>32.0</td>\n",
       "      <td>0</td>\n",
       "      <td>0</td>\n",
       "      <td>7.7500</td>\n",
       "      <td>False</td>\n",
       "      <td>False</td>\n",
       "      <td>True</td>\n",
       "      <td>False</td>\n",
       "      <td>True</td>\n",
       "      <td>False</td>\n",
       "    </tr>\n",
       "  </tbody>\n",
       "</table>\n",
       "<p>891 rows × 13 columns</p>\n",
       "</div>"
      ],
      "text/plain": [
       "     PassengerId  Survived  Pclass   Age  SibSp  Parch     Fare  \\\n",
       "0              1         0       3  22.0      1      0   7.2500   \n",
       "1              2         1       1  38.0      1      0  71.2833   \n",
       "2              3         1       3  26.0      0      0   7.9250   \n",
       "3              4         1       1  35.0      1      0  53.1000   \n",
       "4              5         0       3  35.0      0      0   8.0500   \n",
       "..           ...       ...     ...   ...    ...    ...      ...   \n",
       "886          887         0       2  27.0      0      0  13.0000   \n",
       "887          888         1       1  19.0      0      0  30.0000   \n",
       "888          889         0       3  28.0      1      2  23.4500   \n",
       "889          890         1       1  26.0      0      0  30.0000   \n",
       "890          891         0       3  32.0      0      0   7.7500   \n",
       "\n",
       "     wasAgeMissing  Sex_female  Sex_male  Embarked_C  Embarked_Q  Embarked_S  \n",
       "0            False       False      True       False       False        True  \n",
       "1            False        True     False        True       False       False  \n",
       "2            False        True     False       False       False        True  \n",
       "3            False        True     False       False       False        True  \n",
       "4            False       False      True       False       False        True  \n",
       "..             ...         ...       ...         ...         ...         ...  \n",
       "886          False       False      True       False       False        True  \n",
       "887          False        True     False       False       False        True  \n",
       "888           True        True     False       False       False        True  \n",
       "889          False       False      True        True       False       False  \n",
       "890          False       False      True       False        True       False  \n",
       "\n",
       "[891 rows x 13 columns]"
      ]
     },
     "execution_count": 9,
     "metadata": {},
     "output_type": "execute_result"
    }
   ],
   "source": [
    "transformed_df"
   ]
  },
  {
   "cell_type": "markdown",
   "id": "aad810a2",
   "metadata": {},
   "source": [
    "### 5.2 Spliting the data"
   ]
  },
  {
   "cell_type": "code",
   "execution_count": 10,
   "id": "ad9e8043",
   "metadata": {},
   "outputs": [],
   "source": [
    "# Let's create X and Y\n",
    "X = transformed_df.drop(\"Survived\", axis=1)\n",
    "y = transformed_df[\"Survived\"]\n",
    "\n",
    "# Split the data\n",
    "X_train, X_test, y_train, y_test = train_test_split(X, y, test_size=0.2)"
   ]
  },
  {
   "cell_type": "markdown",
   "id": "772c5124",
   "metadata": {},
   "source": [
    "### 5.3 Creating a balanced version of our data"
   ]
  },
  {
   "cell_type": "markdown",
   "id": "24e7607a",
   "metadata": {},
   "source": [
    "We saw earlier, that we have over 500 \"non-survivors\" and about 300 survivors. I was curious if balancing them would make any difference like making the model better with new data. I did a little reaserch about dealing with imbalanced data and came across this article on Medium: \n",
    "> https://medium.com/analytics-vidhya/machine-learning-how-to-handle-class-imbalance-920e48c3e970\n",
    "\n",
    "In the article the following method was mentioned - `SMOTE()`. I searched it and found this article (in Polish):\n",
    "> https://miroslawmamczur.pl/niezbalansowane-dane-klasyfikacyjne-na-ratunek-smote/\n",
    "\n",
    "I also used this guid from Imblearn library:\n",
    "> https://imbalanced-learn.org/stable/over_sampling.html#smote-adasyn"
   ]
  },
  {
   "cell_type": "code",
   "execution_count": 11,
   "id": "e947e01d",
   "metadata": {},
   "outputs": [
    {
     "name": "stderr",
     "output_type": "stream",
     "text": [
      "C:\\Users\\jakub\\Small-ML-Projects\\env\\lib\\site-packages\\imblearn\\over_sampling\\_smote\\base.py:336: FutureWarning: The parameter `n_jobs` has been deprecated in 0.10 and will be removed in 0.12. You can pass an nearest neighbors estimator where `n_jobs` is already set instead.\n",
      "  warnings.warn(\n"
     ]
    }
   ],
   "source": [
    "# Implementing the SMOTE function to balcance our data\n",
    "from imblearn.over_sampling import SMOTE\n",
    "\n",
    "smote = SMOTE(random_state=42, n_jobs=-1) \n",
    "X_train_smote, y_train_smote = smote.fit_resample(X_train, y_train)"
   ]
  },
  {
   "cell_type": "markdown",
   "id": "ec7d5169",
   "metadata": {},
   "source": [
    "Now our data is ready and since we have to versions of it we will do the following:\n",
    "1. Fit the models on the non-balanced data and score them\n",
    "2. Tune these models and see which one performs the best\n",
    "3. Fit the models again but on the balance data\n",
    "4. Tune the models trained on balanced data\n",
    "5. Emarge the best model of all"
   ]
  },
  {
   "cell_type": "markdown",
   "id": "2c5dbdf7",
   "metadata": {},
   "source": [
    "## 6. Choosing the model\n",
    "Now since all of our data is ready and split we can move on to picking models. We will check the scikit learn map to see which model could we use: https://scikit-learn.org/stable/tutorial/machine_learning_map/index.html \n",
    "\n",
    "We are going to try:\n",
    "* LinearSVC (https://scikit-learn.org/stable/modules/generated/sklearn.svm.LinearSVC.html#sklearn.svm.LinearSVC)\n",
    "* SVC (https://scikit-learn.org/stable/modules/generated/sklearn.svm.SVC.html#sklearn.svm.SVC)\n",
    "* KNN (https://scikit-learn.org/stable/modules/neighbors.html)\n",
    "* LogisticRegression (https://scikit-learn.org/stable/modules/linear_model.html#logistic-regression)\n",
    "* RandomForestClassifier (https://scikit-learn.org/stable/modules/generated/sklearn.ensemble.RandomForestClassifier.html#sklearn.ensemble.RandomForestClassifier)\n",
    "* AdaBoost (https://scikit-learn.org/stable/modules/generated/sklearn.ensemble.AdaBoostClassifier.html#sklearn.ensemble.AdaBoostClassifier)\n",
    "\n",
    "**Note:** Remember to import all the models!!!\n",
    "\n",
    "Because we want to try so many different models we will create a dictionary with all of our models, fit them and evaluate them using accuracy. "
   ]
  },
  {
   "cell_type": "code",
   "execution_count": 12,
   "id": "f1360170",
   "metadata": {},
   "outputs": [],
   "source": [
    "# Import all the models \n",
    "from sklearn.svm import LinearSVC\n",
    "from sklearn.svm import SVC\n",
    "from sklearn.neighbors import KNeighborsClassifier\n",
    "from sklearn.linear_model import LogisticRegression\n",
    "from sklearn.ensemble import RandomForestClassifier\n",
    "from sklearn.ensemble import AdaBoostClassifier"
   ]
  },
  {
   "cell_type": "code",
   "execution_count": 13,
   "id": "49d85041",
   "metadata": {},
   "outputs": [],
   "source": [
    "# Create a model dictionary\n",
    "model_dict = {\n",
    "    \"LinearSVC\": LinearSVC(),\n",
    "    \"SVC\": SVC(),\n",
    "    \"KNN\": KNeighborsClassifier(),\n",
    "    \"LogisticRegression\": LogisticRegression(),\n",
    "    \"RandomForestClassifier\": RandomForestClassifier(),\n",
    "    \"AdaBoostClassifier\": AdaBoostClassifier()\n",
    "}"
   ]
  },
  {
   "cell_type": "markdown",
   "id": "9670fa18",
   "metadata": {},
   "source": [
    "### 6.1 Scoring the models"
   ]
  },
  {
   "cell_type": "markdown",
   "id": "f1811fc8",
   "metadata": {},
   "source": [
    "Now let's create a function that will:\n",
    "* take model dictionary as a parameter\n",
    "* fit all the model to our data\n",
    "* score all the models using accuracy\n",
    "* put the name and the score of the model in results dictionary\n",
    "* return the results dictionary"
   ]
  },
  {
   "cell_type": "code",
   "execution_count": 14,
   "id": "dc899893",
   "metadata": {},
   "outputs": [],
   "source": [
    "# Create fit_and_score function\n",
    "def fit_and_score(model_dictionary, X_train = X_train, y_train = y_train):\n",
    "    \"\"\"\n",
    "    This function takes as an input a dictionary of models, fits and scoress all of the models using accuracy.\n",
    "    \"\"\"\n",
    "    # Set random seed\n",
    "    np.random.seed(42)\n",
    "    \n",
    "    # Create an empty results dictionary \n",
    "    results = {}\n",
    "    \n",
    "    for name, model in model_dictionary.items():\n",
    "        # Fit the model\n",
    "        model.fit(X_train, y_train)\n",
    "        # Score the model using accuracy and add the results\n",
    "        results[name] = cross_val_score(model, X_test, y_test, cv=5, scoring=\"accuracy\").mean()\n",
    "    # Return the results dictionary\n",
    "    return results"
   ]
  },
  {
   "cell_type": "markdown",
   "id": "52e299dc",
   "metadata": {},
   "source": [
    "**Note:** I have decided to add the `%%time` magic function to monitor how long does it take for columns to run. "
   ]
  },
  {
   "cell_type": "code",
   "execution_count": 15,
   "id": "197dbac3",
   "metadata": {},
   "outputs": [
    {
     "name": "stderr",
     "output_type": "stream",
     "text": [
      "C:\\Users\\jakub\\Small-ML-Projects\\env\\lib\\site-packages\\sklearn\\svm\\_base.py:1225: ConvergenceWarning: Liblinear failed to converge, increase the number of iterations.\n",
      "  warnings.warn(\n",
      "C:\\Users\\jakub\\Small-ML-Projects\\env\\lib\\site-packages\\sklearn\\svm\\_base.py:1225: ConvergenceWarning: Liblinear failed to converge, increase the number of iterations.\n",
      "  warnings.warn(\n",
      "C:\\Users\\jakub\\Small-ML-Projects\\env\\lib\\site-packages\\sklearn\\svm\\_base.py:1225: ConvergenceWarning: Liblinear failed to converge, increase the number of iterations.\n",
      "  warnings.warn(\n",
      "C:\\Users\\jakub\\Small-ML-Projects\\env\\lib\\site-packages\\sklearn\\svm\\_base.py:1225: ConvergenceWarning: Liblinear failed to converge, increase the number of iterations.\n",
      "  warnings.warn(\n",
      "C:\\Users\\jakub\\Small-ML-Projects\\env\\lib\\site-packages\\sklearn\\svm\\_base.py:1225: ConvergenceWarning: Liblinear failed to converge, increase the number of iterations.\n",
      "  warnings.warn(\n",
      "C:\\Users\\jakub\\Small-ML-Projects\\env\\lib\\site-packages\\sklearn\\svm\\_base.py:1225: ConvergenceWarning: Liblinear failed to converge, increase the number of iterations.\n",
      "  warnings.warn(\n",
      "C:\\Users\\jakub\\Small-ML-Projects\\env\\lib\\site-packages\\sklearn\\linear_model\\_logistic.py:444: ConvergenceWarning: lbfgs failed to converge (status=1):\n",
      "STOP: TOTAL NO. of ITERATIONS REACHED LIMIT.\n",
      "\n",
      "Increase the number of iterations (max_iter) or scale the data as shown in:\n",
      "    https://scikit-learn.org/stable/modules/preprocessing.html\n",
      "Please also refer to the documentation for alternative solver options:\n",
      "    https://scikit-learn.org/stable/modules/linear_model.html#logistic-regression\n",
      "  n_iter_i = _check_optimize_result(\n",
      "C:\\Users\\jakub\\Small-ML-Projects\\env\\lib\\site-packages\\sklearn\\linear_model\\_logistic.py:444: ConvergenceWarning: lbfgs failed to converge (status=1):\n",
      "STOP: TOTAL NO. of ITERATIONS REACHED LIMIT.\n",
      "\n",
      "Increase the number of iterations (max_iter) or scale the data as shown in:\n",
      "    https://scikit-learn.org/stable/modules/preprocessing.html\n",
      "Please also refer to the documentation for alternative solver options:\n",
      "    https://scikit-learn.org/stable/modules/linear_model.html#logistic-regression\n",
      "  n_iter_i = _check_optimize_result(\n",
      "C:\\Users\\jakub\\Small-ML-Projects\\env\\lib\\site-packages\\sklearn\\linear_model\\_logistic.py:444: ConvergenceWarning: lbfgs failed to converge (status=1):\n",
      "STOP: TOTAL NO. of ITERATIONS REACHED LIMIT.\n",
      "\n",
      "Increase the number of iterations (max_iter) or scale the data as shown in:\n",
      "    https://scikit-learn.org/stable/modules/preprocessing.html\n",
      "Please also refer to the documentation for alternative solver options:\n",
      "    https://scikit-learn.org/stable/modules/linear_model.html#logistic-regression\n",
      "  n_iter_i = _check_optimize_result(\n",
      "C:\\Users\\jakub\\Small-ML-Projects\\env\\lib\\site-packages\\sklearn\\linear_model\\_logistic.py:444: ConvergenceWarning: lbfgs failed to converge (status=1):\n",
      "STOP: TOTAL NO. of ITERATIONS REACHED LIMIT.\n",
      "\n",
      "Increase the number of iterations (max_iter) or scale the data as shown in:\n",
      "    https://scikit-learn.org/stable/modules/preprocessing.html\n",
      "Please also refer to the documentation for alternative solver options:\n",
      "    https://scikit-learn.org/stable/modules/linear_model.html#logistic-regression\n",
      "  n_iter_i = _check_optimize_result(\n",
      "C:\\Users\\jakub\\Small-ML-Projects\\env\\lib\\site-packages\\sklearn\\linear_model\\_logistic.py:444: ConvergenceWarning: lbfgs failed to converge (status=1):\n",
      "STOP: TOTAL NO. of ITERATIONS REACHED LIMIT.\n",
      "\n",
      "Increase the number of iterations (max_iter) or scale the data as shown in:\n",
      "    https://scikit-learn.org/stable/modules/preprocessing.html\n",
      "Please also refer to the documentation for alternative solver options:\n",
      "    https://scikit-learn.org/stable/modules/linear_model.html#logistic-regression\n",
      "  n_iter_i = _check_optimize_result(\n",
      "C:\\Users\\jakub\\Small-ML-Projects\\env\\lib\\site-packages\\sklearn\\linear_model\\_logistic.py:444: ConvergenceWarning: lbfgs failed to converge (status=1):\n",
      "STOP: TOTAL NO. of ITERATIONS REACHED LIMIT.\n",
      "\n",
      "Increase the number of iterations (max_iter) or scale the data as shown in:\n",
      "    https://scikit-learn.org/stable/modules/preprocessing.html\n",
      "Please also refer to the documentation for alternative solver options:\n",
      "    https://scikit-learn.org/stable/modules/linear_model.html#logistic-regression\n",
      "  n_iter_i = _check_optimize_result(\n"
     ]
    },
    {
     "name": "stdout",
     "output_type": "stream",
     "text": [
      "CPU times: total: 156 ms\n",
      "Wall time: 1.29 s\n"
     ]
    }
   ],
   "source": [
    "%%time\n",
    "# Let's call our function\n",
    "models_score = fit_and_score(model_dict, X_train, y_train)"
   ]
  },
  {
   "cell_type": "code",
   "execution_count": 16,
   "id": "15b1a446",
   "metadata": {},
   "outputs": [
    {
     "data": {
      "text/plain": [
       "{'LinearSVC': 0.6698412698412698,\n",
       " 'SVC': 0.6201587301587301,\n",
       " 'KNN': 0.6477777777777778,\n",
       " 'LogisticRegression': 0.743015873015873,\n",
       " 'RandomForestClassifier': 0.7653968253968254,\n",
       " 'AdaBoostClassifier': 0.6922222222222223}"
      ]
     },
     "execution_count": 16,
     "metadata": {},
     "output_type": "execute_result"
    }
   ],
   "source": [
    "models_score"
   ]
  },
  {
   "cell_type": "code",
   "execution_count": 17,
   "id": "789306a3",
   "metadata": {},
   "outputs": [
    {
     "data": {
      "image/png": "[encoded data removed]",
      "text/plain": [
       "<Figure size 640x480 with 1 Axes>"
      ]
     },
     "metadata": {},
     "output_type": "display_data"
    }
   ],
   "source": [
    "# Let's visualize the results\n",
    "models_score_df = pd.DataFrame(models_score, index=[\"Accuracy\"])\n",
    "models_score_df.T.plot.bar();"
   ]
  },
  {
   "cell_type": "markdown",
   "id": "b3fe53ca",
   "metadata": {},
   "source": [
    "## 7. Hyperparameter tuning"
   ]
  },
  {
   "cell_type": "markdown",
   "id": "3314c0be",
   "metadata": {},
   "source": [
    "Some of our model did quite well, but some did below our expectations. We got a lot of warnings saying we should increase the number of iterators to get better results. These warnings were for:\n",
    "* LinearSVC \n",
    "* LogisticRegression\n",
    "\n",
    "Our target is to get as highest score we can get and pick a model with the highest score."
   ]
  },
  {
   "cell_type": "markdown",
   "id": "6be7c0cf",
   "metadata": {},
   "source": [
    "### 7.1 Hyperparameter tuning for SVC"
   ]
  },
  {
   "cell_type": "markdown",
   "id": "50e79c20",
   "metadata": {},
   "source": [
    "I will try to optimize `SVC` using `GridSearchCV` to see if we can get more out of it since it's performing the worst.\n",
    "I did some reaserch on how can I improve my `SVC` model and came across this article on Medium: https://medium.com/all-things-ai/in-depth-parameter-tuning-for-svc-758215394769\n",
    "\n",
    "**Note:** This and next `GridSearchCV`s will run for a long time. I think it may be a good idea to save each model after we run the `GridSearchCV`. Remember - the `%%time` magic function will tell you exactly how long did the cell run for. Before runing the code make sure you have something else to do while waiting for this code to run. \n",
    "\n",
    "**Note:** The cell below was runing for almost 10 hours without a result, so it's either broken or it just takes this long for my laptop to process. "
   ]
  },
  {
   "cell_type": "markdown",
   "id": "55f240a3",
   "metadata": {},
   "source": [
    "%%time\n",
    "# GridSearchCV for SVC\n",
    "svc_grid = {\"C\": (0.1, 1, 10, 100, 1000),\n",
    "            \"gamma\": (0.1, 1, 10, 100),\n",
    "            \"kernel\": (\"linear\", \"rbf\", \"poly\")}\n",
    "\n",
    "# Setup GridSearchCV for SVC\n",
    "gs_svc = GridSearchCV(SVC(),\n",
    "                      param_grid=svc_grid,\n",
    "                      cv=5,\n",
    "                      verbose=True)\n",
    "gs_svc.fit(X_train, y_train)"
   ]
  },
  {
   "cell_type": "markdown",
   "id": "e958d0f7",
   "metadata": {},
   "source": [
    "gs_svc.best_params_"
   ]
  },
  {
   "cell_type": "code",
   "execution_count": 18,
   "id": "3d9970be",
   "metadata": {},
   "outputs": [],
   "source": [
    "# Let's create a dictionary, where we will store updated models' values\n",
    "updated_models_scores = {}"
   ]
  },
  {
   "cell_type": "markdown",
   "id": "47e0840c",
   "metadata": {},
   "source": [
    "updated_models_scores[\"SVC\"] = gs_svc.score(X_test, y_test)"
   ]
  },
  {
   "cell_type": "markdown",
   "id": "ecc3f5a6",
   "metadata": {},
   "source": [
    "We can see a big improvement in our SVC model, but it's still performing similarly to other models baseline score, so I think we will park this model for now."
   ]
  },
  {
   "cell_type": "markdown",
   "id": "b2fa6691",
   "metadata": {},
   "source": [
    "### 7.2 Hyperparameter tuning for LogisticRegression"
   ]
  },
  {
   "cell_type": "markdown",
   "id": "d3ced289",
   "metadata": {},
   "source": [
    "Next up is `LogisticRegression()`. The baseline score is quite high already, so I have some high hopes for this one.\n",
    "\n",
    "My picks for grid are based on this article from Medium: \n",
    "> https://medium.com/codex/do-i-need-to-tune-logistic-regression-hyperparameters-1cb2b81fca69"
   ]
  },
  {
   "cell_type": "code",
   "execution_count": 19,
   "id": "e5bc9013",
   "metadata": {},
   "outputs": [
    {
     "name": "stdout",
     "output_type": "stream",
     "text": [
      "Fitting 5 folds for each of 450 candidates, totalling 2250 fits\n",
      "CPU times: total: 4.11 s\n",
      "Wall time: 56.5 s\n"
     ]
    },
    {
     "data": {
      "text/html": [
       "<style>#sk-container-id-1 {color: black;background-color: white;}#sk-container-id-1 pre{padding: 0;}#sk-container-id-1 div.sk-toggleable {background-color: white;}#sk-container-id-1 label.sk-toggleable__label {cursor: pointer;display: block;width: 100%;margin-bottom: 0;padding: 0.3em;box-sizing: border-box;text-align: center;}#sk-container-id-1 label.sk-toggleable__label-arrow:before {content: \"▸\";float: left;margin-right: 0.25em;color: #696969;}#sk-container-id-1 label.sk-toggleable__label-arrow:hover:before {color: black;}#sk-container-id-1 div.sk-estimator:hover label.sk-toggleable__label-arrow:before {color: black;}#sk-container-id-1 div.sk-toggleable__content {max-height: 0;max-width: 0;overflow: hidden;text-align: left;background-color: #f0f8ff;}#sk-container-id-1 div.sk-toggleable__content pre {margin: 0.2em;color: black;border-radius: 0.25em;background-color: #f0f8ff;}#sk-container-id-1 input.sk-toggleable__control:checked~div.sk-toggleable__content {max-height: 200px;max-width: 100%;overflow: auto;}#sk-container-id-1 input.sk-toggleable__control:checked~label.sk-toggleable__label-arrow:before {content: \"▾\";}#sk-container-id-1 div.sk-estimator input.sk-toggleable__control:checked~label.sk-toggleable__label {background-color: #d4ebff;}#sk-container-id-1 div.sk-label input.sk-toggleable__control:checked~label.sk-toggleable__label {background-color: #d4ebff;}#sk-container-id-1 input.sk-hidden--visually {border: 0;clip: rect(1px 1px 1px 1px);clip: rect(1px, 1px, 1px, 1px);height: 1px;margin: -1px;overflow: hidden;padding: 0;position: absolute;width: 1px;}#sk-container-id-1 div.sk-estimator {font-family: monospace;background-color: #f0f8ff;border: 1px dotted black;border-radius: 0.25em;box-sizing: border-box;margin-bottom: 0.5em;}#sk-container-id-1 div.sk-estimator:hover {background-color: #d4ebff;}#sk-container-id-1 div.sk-parallel-item::after {content: \"\";width: 100%;border-bottom: 1px solid gray;flex-grow: 1;}#sk-container-id-1 div.sk-label:hover label.sk-toggleable__label {background-color: #d4ebff;}#sk-container-id-1 div.sk-serial::before {content: \"\";position: absolute;border-left: 1px solid gray;box-sizing: border-box;top: 0;bottom: 0;left: 50%;z-index: 0;}#sk-container-id-1 div.sk-serial {display: flex;flex-direction: column;align-items: center;background-color: white;padding-right: 0.2em;padding-left: 0.2em;position: relative;}#sk-container-id-1 div.sk-item {position: relative;z-index: 1;}#sk-container-id-1 div.sk-parallel {display: flex;align-items: stretch;justify-content: center;background-color: white;position: relative;}#sk-container-id-1 div.sk-item::before, #sk-container-id-1 div.sk-parallel-item::before {content: \"\";position: absolute;border-left: 1px solid gray;box-sizing: border-box;top: 0;bottom: 0;left: 50%;z-index: -1;}#sk-container-id-1 div.sk-parallel-item {display: flex;flex-direction: column;z-index: 1;position: relative;background-color: white;}#sk-container-id-1 div.sk-parallel-item:first-child::after {align-self: flex-end;width: 50%;}#sk-container-id-1 div.sk-parallel-item:last-child::after {align-self: flex-start;width: 50%;}#sk-container-id-1 div.sk-parallel-item:only-child::after {width: 0;}#sk-container-id-1 div.sk-dashed-wrapped {border: 1px dashed gray;margin: 0 0.4em 0.5em 0.4em;box-sizing: border-box;padding-bottom: 0.4em;background-color: white;}#sk-container-id-1 div.sk-label label {font-family: monospace;font-weight: bold;display: inline-block;line-height: 1.2em;}#sk-container-id-1 div.sk-label-container {text-align: center;}#sk-container-id-1 div.sk-container {/* jupyter's `normalize.less` sets `[hidden] { display: none; }` but bootstrap.min.css set `[hidden] { display: none !important; }` so we also need the `!important` here to be able to override the default hidden behavior on the sphinx rendered scikit-learn.org. See: https://github.com/scikit-learn/scikit-learn/issues/21755 */display: inline-block !important;position: relative;}#sk-container-id-1 div.sk-text-repr-fallback {display: none;}</style><div id=\"sk-container-id-1\" class=\"sk-top-container\"><div class=\"sk-text-repr-fallback\"><pre>GridSearchCV(cv=5, estimator=LogisticRegression(n_jobs=-1), n_jobs=-1,\n",
       "             param_grid={&#x27;C&#x27;: (0.1, 1, 10, 100, 1000),\n",
       "                         &#x27;max_iter&#x27;: array([100, 110, 120, 130, 140, 150, 160, 170, 180, 190, 200, 210, 220,\n",
       "       230, 240, 250, 260, 270, 280, 290, 300, 310, 320, 330, 340, 350,\n",
       "       360, 370, 380, 390, 400, 410, 420, 430, 440, 450, 460, 470, 480,\n",
       "       490, 500, 510, 520, 530, 540, 550, 560, 570, 580, 590, 600, 610,\n",
       "       620, 630, 640, 650, 660, 670, 680, 690, 700, 710, 720, 730, 740,\n",
       "       750, 760, 770, 780, 790, 800, 810, 820, 830, 840, 850, 860, 870,\n",
       "       880, 890, 900, 910, 920, 930, 940, 950, 960, 970, 980, 990])},\n",
       "             verbose=True)</pre><b>In a Jupyter environment, please rerun this cell to show the HTML representation or trust the notebook. <br />On GitHub, the HTML representation is unable to render, please try loading this page with nbviewer.org.</b></div><div class=\"sk-container\" hidden><div class=\"sk-item sk-dashed-wrapped\"><div class=\"sk-label-container\"><div class=\"sk-label sk-toggleable\"><input class=\"sk-toggleable__control sk-hidden--visually\" id=\"sk-estimator-id-1\" type=\"checkbox\" ><label for=\"sk-estimator-id-1\" class=\"sk-toggleable__label sk-toggleable__label-arrow\">GridSearchCV</label><div class=\"sk-toggleable__content\"><pre>GridSearchCV(cv=5, estimator=LogisticRegression(n_jobs=-1), n_jobs=-1,\n",
       "             param_grid={&#x27;C&#x27;: (0.1, 1, 10, 100, 1000),\n",
       "                         &#x27;max_iter&#x27;: array([100, 110, 120, 130, 140, 150, 160, 170, 180, 190, 200, 210, 220,\n",
       "       230, 240, 250, 260, 270, 280, 290, 300, 310, 320, 330, 340, 350,\n",
       "       360, 370, 380, 390, 400, 410, 420, 430, 440, 450, 460, 470, 480,\n",
       "       490, 500, 510, 520, 530, 540, 550, 560, 570, 580, 590, 600, 610,\n",
       "       620, 630, 640, 650, 660, 670, 680, 690, 700, 710, 720, 730, 740,\n",
       "       750, 760, 770, 780, 790, 800, 810, 820, 830, 840, 850, 860, 870,\n",
       "       880, 890, 900, 910, 920, 930, 940, 950, 960, 970, 980, 990])},\n",
       "             verbose=True)</pre></div></div></div><div class=\"sk-parallel\"><div class=\"sk-parallel-item\"><div class=\"sk-item\"><div class=\"sk-label-container\"><div class=\"sk-label sk-toggleable\"><input class=\"sk-toggleable__control sk-hidden--visually\" id=\"sk-estimator-id-2\" type=\"checkbox\" ><label for=\"sk-estimator-id-2\" class=\"sk-toggleable__label sk-toggleable__label-arrow\">estimator: LogisticRegression</label><div class=\"sk-toggleable__content\"><pre>LogisticRegression(n_jobs=-1)</pre></div></div></div><div class=\"sk-serial\"><div class=\"sk-item\"><div class=\"sk-estimator sk-toggleable\"><input class=\"sk-toggleable__control sk-hidden--visually\" id=\"sk-estimator-id-3\" type=\"checkbox\" ><label for=\"sk-estimator-id-3\" class=\"sk-toggleable__label sk-toggleable__label-arrow\">LogisticRegression</label><div class=\"sk-toggleable__content\"><pre>LogisticRegression(n_jobs=-1)</pre></div></div></div></div></div></div></div></div></div></div>"
      ],
      "text/plain": [
       "GridSearchCV(cv=5, estimator=LogisticRegression(n_jobs=-1), n_jobs=-1,\n",
       "             param_grid={'C': (0.1, 1, 10, 100, 1000),\n",
       "                         'max_iter': array([100, 110, 120, 130, 140, 150, 160, 170, 180, 190, 200, 210, 220,\n",
       "       230, 240, 250, 260, 270, 280, 290, 300, 310, 320, 330, 340, 350,\n",
       "       360, 370, 380, 390, 400, 410, 420, 430, 440, 450, 460, 470, 480,\n",
       "       490, 500, 510, 520, 530, 540, 550, 560, 570, 580, 590, 600, 610,\n",
       "       620, 630, 640, 650, 660, 670, 680, 690, 700, 710, 720, 730, 740,\n",
       "       750, 760, 770, 780, 790, 800, 810, 820, 830, 840, 850, 860, 870,\n",
       "       880, 890, 900, 910, 920, 930, 940, 950, 960, 970, 980, 990])},\n",
       "             verbose=True)"
      ]
     },
     "execution_count": 19,
     "metadata": {},
     "output_type": "execute_result"
    }
   ],
   "source": [
    "%%time\n",
    "np.random.seed(42)\n",
    "# Setup GridSearchCV for LogisticRegression\n",
    "logistic_regression_grid = {\"C\": (0.1, 1, 10, 100, 1000),\n",
    "                            \"max_iter\": np.arange(100,1000,10)}\n",
    "gs_logistic_regression = GridSearchCV(LogisticRegression(n_jobs=-1),\n",
    "                                      param_grid=logistic_regression_grid,\n",
    "                                      cv=5,\n",
    "                                      verbose=True,\n",
    "                                      n_jobs=-1)\n",
    "gs_logistic_regression.fit(X_train, y_train);"
   ]
  },
  {
   "cell_type": "code",
   "execution_count": 20,
   "id": "ad9d7d5c",
   "metadata": {},
   "outputs": [
    {
     "data": {
      "text/plain": [
       "{'C': 0.1, 'max_iter': 290}"
      ]
     },
     "execution_count": 20,
     "metadata": {},
     "output_type": "execute_result"
    }
   ],
   "source": [
    "gs_logistic_regression.best_params_"
   ]
  },
  {
   "cell_type": "code",
   "execution_count": 21,
   "id": "2ba6205a",
   "metadata": {},
   "outputs": [
    {
     "data": {
      "text/plain": [
       "(0.770949720670391, 0.743015873015873)"
      ]
     },
     "execution_count": 21,
     "metadata": {},
     "output_type": "execute_result"
    }
   ],
   "source": [
    "# Let's score the model and add the new score to our updated scores dictionary\n",
    "updated_models_scores[\"LogisticRegression\"] = gs_logistic_regression.score(X_test, y_test)\n",
    "updated_models_scores[\"LogisticRegression\"], models_score[\"LogisticRegression\"]"
   ]
  },
  {
   "cell_type": "markdown",
   "id": "cab0fdd5",
   "metadata": {},
   "source": [
    "There is no improvement in `LogisticRegression()`, in fact I think I performed worst (I'm not sure how), so we will move on to the next one."
   ]
  },
  {
   "cell_type": "markdown",
   "id": "7084046b",
   "metadata": {},
   "source": [
    "### 7.3 Hyperparameter tuning for LinearSVC"
   ]
  },
  {
   "cell_type": "markdown",
   "id": "c170d2fa",
   "metadata": {},
   "source": [
    "For my picks to the grid I used this article: \n",
    "> https://medium.com/grabngoinfo/support-vector-machine-svm-hyperparameter-tuning-in-python-a65586289bcb\n",
    "\n",
    "(I skiped the `kernel`, because then some of the other values would not work - you will see what I mean if you take a look at the article above)."
   ]
  },
  {
   "cell_type": "code",
   "execution_count": 22,
   "id": "bd628498",
   "metadata": {},
   "outputs": [
    {
     "name": "stdout",
     "output_type": "stream",
     "text": [
      "Fitting 5 folds for each of 5 candidates, totalling 25 fits\n",
      "CPU times: total: 31.2 ms\n",
      "Wall time: 251 ms\n"
     ]
    },
    {
     "name": "stderr",
     "output_type": "stream",
     "text": [
      "C:\\Users\\jakub\\Small-ML-Projects\\env\\lib\\site-packages\\sklearn\\svm\\_base.py:1225: ConvergenceWarning: Liblinear failed to converge, increase the number of iterations.\n",
      "  warnings.warn(\n"
     ]
    },
    {
     "data": {
      "text/html": [
       "<style>#sk-container-id-2 {color: black;background-color: white;}#sk-container-id-2 pre{padding: 0;}#sk-container-id-2 div.sk-toggleable {background-color: white;}#sk-container-id-2 label.sk-toggleable__label {cursor: pointer;display: block;width: 100%;margin-bottom: 0;padding: 0.3em;box-sizing: border-box;text-align: center;}#sk-container-id-2 label.sk-toggleable__label-arrow:before {content: \"▸\";float: left;margin-right: 0.25em;color: #696969;}#sk-container-id-2 label.sk-toggleable__label-arrow:hover:before {color: black;}#sk-container-id-2 div.sk-estimator:hover label.sk-toggleable__label-arrow:before {color: black;}#sk-container-id-2 div.sk-toggleable__content {max-height: 0;max-width: 0;overflow: hidden;text-align: left;background-color: #f0f8ff;}#sk-container-id-2 div.sk-toggleable__content pre {margin: 0.2em;color: black;border-radius: 0.25em;background-color: #f0f8ff;}#sk-container-id-2 input.sk-toggleable__control:checked~div.sk-toggleable__content {max-height: 200px;max-width: 100%;overflow: auto;}#sk-container-id-2 input.sk-toggleable__control:checked~label.sk-toggleable__label-arrow:before {content: \"▾\";}#sk-container-id-2 div.sk-estimator input.sk-toggleable__control:checked~label.sk-toggleable__label {background-color: #d4ebff;}#sk-container-id-2 div.sk-label input.sk-toggleable__control:checked~label.sk-toggleable__label {background-color: #d4ebff;}#sk-container-id-2 input.sk-hidden--visually {border: 0;clip: rect(1px 1px 1px 1px);clip: rect(1px, 1px, 1px, 1px);height: 1px;margin: -1px;overflow: hidden;padding: 0;position: absolute;width: 1px;}#sk-container-id-2 div.sk-estimator {font-family: monospace;background-color: #f0f8ff;border: 1px dotted black;border-radius: 0.25em;box-sizing: border-box;margin-bottom: 0.5em;}#sk-container-id-2 div.sk-estimator:hover {background-color: #d4ebff;}#sk-container-id-2 div.sk-parallel-item::after {content: \"\";width: 100%;border-bottom: 1px solid gray;flex-grow: 1;}#sk-container-id-2 div.sk-label:hover label.sk-toggleable__label {background-color: #d4ebff;}#sk-container-id-2 div.sk-serial::before {content: \"\";position: absolute;border-left: 1px solid gray;box-sizing: border-box;top: 0;bottom: 0;left: 50%;z-index: 0;}#sk-container-id-2 div.sk-serial {display: flex;flex-direction: column;align-items: center;background-color: white;padding-right: 0.2em;padding-left: 0.2em;position: relative;}#sk-container-id-2 div.sk-item {position: relative;z-index: 1;}#sk-container-id-2 div.sk-parallel {display: flex;align-items: stretch;justify-content: center;background-color: white;position: relative;}#sk-container-id-2 div.sk-item::before, #sk-container-id-2 div.sk-parallel-item::before {content: \"\";position: absolute;border-left: 1px solid gray;box-sizing: border-box;top: 0;bottom: 0;left: 50%;z-index: -1;}#sk-container-id-2 div.sk-parallel-item {display: flex;flex-direction: column;z-index: 1;position: relative;background-color: white;}#sk-container-id-2 div.sk-parallel-item:first-child::after {align-self: flex-end;width: 50%;}#sk-container-id-2 div.sk-parallel-item:last-child::after {align-self: flex-start;width: 50%;}#sk-container-id-2 div.sk-parallel-item:only-child::after {width: 0;}#sk-container-id-2 div.sk-dashed-wrapped {border: 1px dashed gray;margin: 0 0.4em 0.5em 0.4em;box-sizing: border-box;padding-bottom: 0.4em;background-color: white;}#sk-container-id-2 div.sk-label label {font-family: monospace;font-weight: bold;display: inline-block;line-height: 1.2em;}#sk-container-id-2 div.sk-label-container {text-align: center;}#sk-container-id-2 div.sk-container {/* jupyter's `normalize.less` sets `[hidden] { display: none; }` but bootstrap.min.css set `[hidden] { display: none !important; }` so we also need the `!important` here to be able to override the default hidden behavior on the sphinx rendered scikit-learn.org. See: https://github.com/scikit-learn/scikit-learn/issues/21755 */display: inline-block !important;position: relative;}#sk-container-id-2 div.sk-text-repr-fallback {display: none;}</style><div id=\"sk-container-id-2\" class=\"sk-top-container\"><div class=\"sk-text-repr-fallback\"><pre>GridSearchCV(cv=5, estimator=LinearSVC(), n_jobs=-1,\n",
       "             param_grid={&#x27;C&#x27;: (0.1, 1, 10, 100, 1000)}, verbose=True)</pre><b>In a Jupyter environment, please rerun this cell to show the HTML representation or trust the notebook. <br />On GitHub, the HTML representation is unable to render, please try loading this page with nbviewer.org.</b></div><div class=\"sk-container\" hidden><div class=\"sk-item sk-dashed-wrapped\"><div class=\"sk-label-container\"><div class=\"sk-label sk-toggleable\"><input class=\"sk-toggleable__control sk-hidden--visually\" id=\"sk-estimator-id-4\" type=\"checkbox\" ><label for=\"sk-estimator-id-4\" class=\"sk-toggleable__label sk-toggleable__label-arrow\">GridSearchCV</label><div class=\"sk-toggleable__content\"><pre>GridSearchCV(cv=5, estimator=LinearSVC(), n_jobs=-1,\n",
       "             param_grid={&#x27;C&#x27;: (0.1, 1, 10, 100, 1000)}, verbose=True)</pre></div></div></div><div class=\"sk-parallel\"><div class=\"sk-parallel-item\"><div class=\"sk-item\"><div class=\"sk-label-container\"><div class=\"sk-label sk-toggleable\"><input class=\"sk-toggleable__control sk-hidden--visually\" id=\"sk-estimator-id-5\" type=\"checkbox\" ><label for=\"sk-estimator-id-5\" class=\"sk-toggleable__label sk-toggleable__label-arrow\">estimator: LinearSVC</label><div class=\"sk-toggleable__content\"><pre>LinearSVC()</pre></div></div></div><div class=\"sk-serial\"><div class=\"sk-item\"><div class=\"sk-estimator sk-toggleable\"><input class=\"sk-toggleable__control sk-hidden--visually\" id=\"sk-estimator-id-6\" type=\"checkbox\" ><label for=\"sk-estimator-id-6\" class=\"sk-toggleable__label sk-toggleable__label-arrow\">LinearSVC</label><div class=\"sk-toggleable__content\"><pre>LinearSVC()</pre></div></div></div></div></div></div></div></div></div></div>"
      ],
      "text/plain": [
       "GridSearchCV(cv=5, estimator=LinearSVC(), n_jobs=-1,\n",
       "             param_grid={'C': (0.1, 1, 10, 100, 1000)}, verbose=True)"
      ]
     },
     "execution_count": 22,
     "metadata": {},
     "output_type": "execute_result"
    }
   ],
   "source": [
    "%%time\n",
    "np.random.seed(42)\n",
    "# Setup GridSearchCV for LinearnSVC\n",
    "linear_svc_grid = {\"C\": (0.1, 1, 10, 100, 1000)}\n",
    "gs_linear_svc = GridSearchCV(LinearSVC(),\n",
    "                             param_grid=linear_svc_grid,\n",
    "                             cv=5,\n",
    "                             verbose=True, \n",
    "                             n_jobs=-1)\n",
    "gs_linear_svc.fit(X_train, y_train)"
   ]
  },
  {
   "cell_type": "code",
   "execution_count": 23,
   "id": "429d25a6",
   "metadata": {},
   "outputs": [
    {
     "data": {
      "text/plain": [
       "{'C': 1000}"
      ]
     },
     "execution_count": 23,
     "metadata": {},
     "output_type": "execute_result"
    }
   ],
   "source": [
    "gs_linear_svc.best_params_"
   ]
  },
  {
   "cell_type": "code",
   "execution_count": 24,
   "id": "c3cff965",
   "metadata": {},
   "outputs": [
    {
     "data": {
      "text/plain": [
       "(0.6536312849162011, 0.6698412698412698)"
      ]
     },
     "execution_count": 24,
     "metadata": {},
     "output_type": "execute_result"
    }
   ],
   "source": [
    "# Add to updated scores dictionary \n",
    "updated_models_scores[\"LinearSVC\"] = gs_linear_svc.score(X_test, y_test)\n",
    "updated_models_scores[\"LinearSVC\"], models_score[\"LinearSVC\"]"
   ]
  },
  {
   "cell_type": "markdown",
   "id": "991a4226",
   "metadata": {},
   "source": [
    "There is an improvement and it's quite big. Mayby if I tried more hyperparameters, or had data shaped the other way or used optimizers the score would be higher. I tried searching with different number of iterations - `max_iter`, but my model scored way lower, so I just removed the option for searching with `max_iter`. The best result I could get was with `\"C\"=1000`. "
   ]
  },
  {
   "cell_type": "markdown",
   "id": "577faa6b",
   "metadata": {},
   "source": [
    "### 7.4 Hyperparameter tuning dor RandomForestClassifier"
   ]
  },
  {
   "cell_type": "markdown",
   "id": "3b8e8331",
   "metadata": {},
   "source": [
    "We can still try to improve hyperparameters for `RandomForestClassifier()` and `AdaBoostClassifier()`. We will start with the first one. I used this article to pick my values for the grid: \n",
    "> https://towardsdatascience.com/optimizing-hyperparameters-in-random-forest-classification-ec7741f9d3f6\n",
    "\n",
    "**Note:** This cell, at least on my computer, takes a little bit less than two hours (1h and 40min) to run so before you run it make sure you have something else to do."
   ]
  },
  {
   "cell_type": "code",
   "execution_count": 25,
   "id": "c885c211",
   "metadata": {},
   "outputs": [
    {
     "name": "stdout",
     "output_type": "stream",
     "text": [
      "Fitting 5 folds for each of 1900 candidates, totalling 9500 fits\n",
      "CPU times: total: 32.6 s\n",
      "Wall time: 1h 43min 6s\n"
     ]
    },
    {
     "data": {
      "text/html": [
       "<style>#sk-container-id-3 {color: black;background-color: white;}#sk-container-id-3 pre{padding: 0;}#sk-container-id-3 div.sk-toggleable {background-color: white;}#sk-container-id-3 label.sk-toggleable__label {cursor: pointer;display: block;width: 100%;margin-bottom: 0;padding: 0.3em;box-sizing: border-box;text-align: center;}#sk-container-id-3 label.sk-toggleable__label-arrow:before {content: \"▸\";float: left;margin-right: 0.25em;color: #696969;}#sk-container-id-3 label.sk-toggleable__label-arrow:hover:before {color: black;}#sk-container-id-3 div.sk-estimator:hover label.sk-toggleable__label-arrow:before {color: black;}#sk-container-id-3 div.sk-toggleable__content {max-height: 0;max-width: 0;overflow: hidden;text-align: left;background-color: #f0f8ff;}#sk-container-id-3 div.sk-toggleable__content pre {margin: 0.2em;color: black;border-radius: 0.25em;background-color: #f0f8ff;}#sk-container-id-3 input.sk-toggleable__control:checked~div.sk-toggleable__content {max-height: 200px;max-width: 100%;overflow: auto;}#sk-container-id-3 input.sk-toggleable__control:checked~label.sk-toggleable__label-arrow:before {content: \"▾\";}#sk-container-id-3 div.sk-estimator input.sk-toggleable__control:checked~label.sk-toggleable__label {background-color: #d4ebff;}#sk-container-id-3 div.sk-label input.sk-toggleable__control:checked~label.sk-toggleable__label {background-color: #d4ebff;}#sk-container-id-3 input.sk-hidden--visually {border: 0;clip: rect(1px 1px 1px 1px);clip: rect(1px, 1px, 1px, 1px);height: 1px;margin: -1px;overflow: hidden;padding: 0;position: absolute;width: 1px;}#sk-container-id-3 div.sk-estimator {font-family: monospace;background-color: #f0f8ff;border: 1px dotted black;border-radius: 0.25em;box-sizing: border-box;margin-bottom: 0.5em;}#sk-container-id-3 div.sk-estimator:hover {background-color: #d4ebff;}#sk-container-id-3 div.sk-parallel-item::after {content: \"\";width: 100%;border-bottom: 1px solid gray;flex-grow: 1;}#sk-container-id-3 div.sk-label:hover label.sk-toggleable__label {background-color: #d4ebff;}#sk-container-id-3 div.sk-serial::before {content: \"\";position: absolute;border-left: 1px solid gray;box-sizing: border-box;top: 0;bottom: 0;left: 50%;z-index: 0;}#sk-container-id-3 div.sk-serial {display: flex;flex-direction: column;align-items: center;background-color: white;padding-right: 0.2em;padding-left: 0.2em;position: relative;}#sk-container-id-3 div.sk-item {position: relative;z-index: 1;}#sk-container-id-3 div.sk-parallel {display: flex;align-items: stretch;justify-content: center;background-color: white;position: relative;}#sk-container-id-3 div.sk-item::before, #sk-container-id-3 div.sk-parallel-item::before {content: \"\";position: absolute;border-left: 1px solid gray;box-sizing: border-box;top: 0;bottom: 0;left: 50%;z-index: -1;}#sk-container-id-3 div.sk-parallel-item {display: flex;flex-direction: column;z-index: 1;position: relative;background-color: white;}#sk-container-id-3 div.sk-parallel-item:first-child::after {align-self: flex-end;width: 50%;}#sk-container-id-3 div.sk-parallel-item:last-child::after {align-self: flex-start;width: 50%;}#sk-container-id-3 div.sk-parallel-item:only-child::after {width: 0;}#sk-container-id-3 div.sk-dashed-wrapped {border: 1px dashed gray;margin: 0 0.4em 0.5em 0.4em;box-sizing: border-box;padding-bottom: 0.4em;background-color: white;}#sk-container-id-3 div.sk-label label {font-family: monospace;font-weight: bold;display: inline-block;line-height: 1.2em;}#sk-container-id-3 div.sk-label-container {text-align: center;}#sk-container-id-3 div.sk-container {/* jupyter's `normalize.less` sets `[hidden] { display: none; }` but bootstrap.min.css set `[hidden] { display: none !important; }` so we also need the `!important` here to be able to override the default hidden behavior on the sphinx rendered scikit-learn.org. See: https://github.com/scikit-learn/scikit-learn/issues/21755 */display: inline-block !important;position: relative;}#sk-container-id-3 div.sk-text-repr-fallback {display: none;}</style><div id=\"sk-container-id-3\" class=\"sk-top-container\"><div class=\"sk-text-repr-fallback\"><pre>GridSearchCV(cv=5, estimator=RandomForestClassifier(n_jobs=-1), n_jobs=-1,\n",
       "             param_grid={&#x27;max_depth&#x27;: (5, 8, 15, 25, 30),\n",
       "                         &#x27;min_samples_leaf&#x27;: (1, 2, 5, 10),\n",
       "                         &#x27;min_samples_split&#x27;: (2, 5, 10, 15, 100),\n",
       "                         &#x27;n_estimators&#x27;: array([ 100,  200,  300,  400,  500,  600,  700,  800,  900, 1000, 1100,\n",
       "       1200, 1300, 1400, 1500, 1600, 1700, 1800, 1900])},\n",
       "             verbose=True)</pre><b>In a Jupyter environment, please rerun this cell to show the HTML representation or trust the notebook. <br />On GitHub, the HTML representation is unable to render, please try loading this page with nbviewer.org.</b></div><div class=\"sk-container\" hidden><div class=\"sk-item sk-dashed-wrapped\"><div class=\"sk-label-container\"><div class=\"sk-label sk-toggleable\"><input class=\"sk-toggleable__control sk-hidden--visually\" id=\"sk-estimator-id-7\" type=\"checkbox\" ><label for=\"sk-estimator-id-7\" class=\"sk-toggleable__label sk-toggleable__label-arrow\">GridSearchCV</label><div class=\"sk-toggleable__content\"><pre>GridSearchCV(cv=5, estimator=RandomForestClassifier(n_jobs=-1), n_jobs=-1,\n",
       "             param_grid={&#x27;max_depth&#x27;: (5, 8, 15, 25, 30),\n",
       "                         &#x27;min_samples_leaf&#x27;: (1, 2, 5, 10),\n",
       "                         &#x27;min_samples_split&#x27;: (2, 5, 10, 15, 100),\n",
       "                         &#x27;n_estimators&#x27;: array([ 100,  200,  300,  400,  500,  600,  700,  800,  900, 1000, 1100,\n",
       "       1200, 1300, 1400, 1500, 1600, 1700, 1800, 1900])},\n",
       "             verbose=True)</pre></div></div></div><div class=\"sk-parallel\"><div class=\"sk-parallel-item\"><div class=\"sk-item\"><div class=\"sk-label-container\"><div class=\"sk-label sk-toggleable\"><input class=\"sk-toggleable__control sk-hidden--visually\" id=\"sk-estimator-id-8\" type=\"checkbox\" ><label for=\"sk-estimator-id-8\" class=\"sk-toggleable__label sk-toggleable__label-arrow\">estimator: RandomForestClassifier</label><div class=\"sk-toggleable__content\"><pre>RandomForestClassifier(n_jobs=-1)</pre></div></div></div><div class=\"sk-serial\"><div class=\"sk-item\"><div class=\"sk-estimator sk-toggleable\"><input class=\"sk-toggleable__control sk-hidden--visually\" id=\"sk-estimator-id-9\" type=\"checkbox\" ><label for=\"sk-estimator-id-9\" class=\"sk-toggleable__label sk-toggleable__label-arrow\">RandomForestClassifier</label><div class=\"sk-toggleable__content\"><pre>RandomForestClassifier(n_jobs=-1)</pre></div></div></div></div></div></div></div></div></div></div>"
      ],
      "text/plain": [
       "GridSearchCV(cv=5, estimator=RandomForestClassifier(n_jobs=-1), n_jobs=-1,\n",
       "             param_grid={'max_depth': (5, 8, 15, 25, 30),\n",
       "                         'min_samples_leaf': (1, 2, 5, 10),\n",
       "                         'min_samples_split': (2, 5, 10, 15, 100),\n",
       "                         'n_estimators': array([ 100,  200,  300,  400,  500,  600,  700,  800,  900, 1000, 1100,\n",
       "       1200, 1300, 1400, 1500, 1600, 1700, 1800, 1900])},\n",
       "             verbose=True)"
      ]
     },
     "execution_count": 25,
     "metadata": {},
     "output_type": "execute_result"
    }
   ],
   "source": [
    "%%time\n",
    "np.random.seed(42)\n",
    "# Setup GridSearchCV for RandomForestClassifier\n",
    "random_forest_clf_grid = {\"n_estimators\": np.arange(100, 2000, 100),\n",
    "                          \"max_depth\": (5, 8, 15, 25, 30),\n",
    "                          \"min_samples_split\": (2, 5, 10, 15, 100),\n",
    "                          \"min_samples_leaf\": (1, 2, 5, 10)}\n",
    "gs_random_forest_clf = GridSearchCV(RandomForestClassifier(n_jobs=-1),\n",
    "                                    param_grid=random_forest_clf_grid,\n",
    "                                    cv=5,\n",
    "                                    verbose=True,\n",
    "                                    n_jobs=-1)\n",
    "gs_random_forest_clf.fit(X_train, y_train)"
   ]
  },
  {
   "cell_type": "code",
   "execution_count": 26,
   "id": "d4a1949b",
   "metadata": {},
   "outputs": [
    {
     "data": {
      "text/plain": [
       "{'max_depth': 25,\n",
       " 'min_samples_leaf': 1,\n",
       " 'min_samples_split': 10,\n",
       " 'n_estimators': 100}"
      ]
     },
     "execution_count": 26,
     "metadata": {},
     "output_type": "execute_result"
    }
   ],
   "source": [
    "gs_random_forest_clf.best_params_"
   ]
  },
  {
   "cell_type": "code",
   "execution_count": 27,
   "id": "c16b1a43",
   "metadata": {},
   "outputs": [
    {
     "data": {
      "text/plain": [
       "{'LogisticRegression': 0.770949720670391,\n",
       " 'LinearSVC': 0.6536312849162011,\n",
       " 'RandomForestClassifier': 0.8044692737430168}"
      ]
     },
     "execution_count": 27,
     "metadata": {},
     "output_type": "execute_result"
    }
   ],
   "source": [
    "# Add the score to dictionary\n",
    "updated_models_scores[\"RandomForestClassifier\"] = gs_random_forest_clf.score(X_test, y_test)\n",
    "updated_models_scores"
   ]
  },
  {
   "cell_type": "code",
   "execution_count": 28,
   "id": "2271ea29",
   "metadata": {},
   "outputs": [],
   "source": [
    "# Let's save our improved model in case something goes wrong\n",
    "import pickle\n",
    "pickle.dump(gs_random_forest_clf, open(\"gs_random_forest_clf_1.pkl\", \"wb\"))"
   ]
  },
  {
   "cell_type": "code",
   "execution_count": 29,
   "id": "94d26bc4",
   "metadata": {},
   "outputs": [],
   "source": [
    "import pickle\n",
    "loaded_random_forest_clf = pickle.load(open(\"gs_random_forest_clf_1.pkl\", \"rb\"))\n",
    "updated_models_scores[\"RandomForestClassifier\"] = loaded_random_forest_clf.score(X_test, y_test)"
   ]
  },
  {
   "cell_type": "markdown",
   "id": "16e97935",
   "metadata": {},
   "source": [
    "### 7.5 Hyperparemeter tuning for AdaBoostClassifier"
   ]
  },
  {
   "cell_type": "markdown",
   "id": "d0e9ceb1",
   "metadata": {},
   "source": [
    "Now we can tune the hyperparameters for our last model - `AdaBoostClassifier()`. I used this article to help me decide which hyperparameters should I try: \n",
    "> https://medium.com/@chaudhurysrijani/tuning-of-adaboost-with-computational-complexity-8727d01a9d20"
   ]
  },
  {
   "cell_type": "code",
   "execution_count": 30,
   "id": "12a83ec8",
   "metadata": {},
   "outputs": [
    {
     "name": "stdout",
     "output_type": "stream",
     "text": [
      "Fitting 5 folds for each of 120 candidates, totalling 600 fits\n",
      "CPU times: total: 2.05 s\n",
      "Wall time: 5min 58s\n"
     ]
    },
    {
     "data": {
      "text/html": [
       "<style>#sk-container-id-4 {color: black;background-color: white;}#sk-container-id-4 pre{padding: 0;}#sk-container-id-4 div.sk-toggleable {background-color: white;}#sk-container-id-4 label.sk-toggleable__label {cursor: pointer;display: block;width: 100%;margin-bottom: 0;padding: 0.3em;box-sizing: border-box;text-align: center;}#sk-container-id-4 label.sk-toggleable__label-arrow:before {content: \"▸\";float: left;margin-right: 0.25em;color: #696969;}#sk-container-id-4 label.sk-toggleable__label-arrow:hover:before {color: black;}#sk-container-id-4 div.sk-estimator:hover label.sk-toggleable__label-arrow:before {color: black;}#sk-container-id-4 div.sk-toggleable__content {max-height: 0;max-width: 0;overflow: hidden;text-align: left;background-color: #f0f8ff;}#sk-container-id-4 div.sk-toggleable__content pre {margin: 0.2em;color: black;border-radius: 0.25em;background-color: #f0f8ff;}#sk-container-id-4 input.sk-toggleable__control:checked~div.sk-toggleable__content {max-height: 200px;max-width: 100%;overflow: auto;}#sk-container-id-4 input.sk-toggleable__control:checked~label.sk-toggleable__label-arrow:before {content: \"▾\";}#sk-container-id-4 div.sk-estimator input.sk-toggleable__control:checked~label.sk-toggleable__label {background-color: #d4ebff;}#sk-container-id-4 div.sk-label input.sk-toggleable__control:checked~label.sk-toggleable__label {background-color: #d4ebff;}#sk-container-id-4 input.sk-hidden--visually {border: 0;clip: rect(1px 1px 1px 1px);clip: rect(1px, 1px, 1px, 1px);height: 1px;margin: -1px;overflow: hidden;padding: 0;position: absolute;width: 1px;}#sk-container-id-4 div.sk-estimator {font-family: monospace;background-color: #f0f8ff;border: 1px dotted black;border-radius: 0.25em;box-sizing: border-box;margin-bottom: 0.5em;}#sk-container-id-4 div.sk-estimator:hover {background-color: #d4ebff;}#sk-container-id-4 div.sk-parallel-item::after {content: \"\";width: 100%;border-bottom: 1px solid gray;flex-grow: 1;}#sk-container-id-4 div.sk-label:hover label.sk-toggleable__label {background-color: #d4ebff;}#sk-container-id-4 div.sk-serial::before {content: \"\";position: absolute;border-left: 1px solid gray;box-sizing: border-box;top: 0;bottom: 0;left: 50%;z-index: 0;}#sk-container-id-4 div.sk-serial {display: flex;flex-direction: column;align-items: center;background-color: white;padding-right: 0.2em;padding-left: 0.2em;position: relative;}#sk-container-id-4 div.sk-item {position: relative;z-index: 1;}#sk-container-id-4 div.sk-parallel {display: flex;align-items: stretch;justify-content: center;background-color: white;position: relative;}#sk-container-id-4 div.sk-item::before, #sk-container-id-4 div.sk-parallel-item::before {content: \"\";position: absolute;border-left: 1px solid gray;box-sizing: border-box;top: 0;bottom: 0;left: 50%;z-index: -1;}#sk-container-id-4 div.sk-parallel-item {display: flex;flex-direction: column;z-index: 1;position: relative;background-color: white;}#sk-container-id-4 div.sk-parallel-item:first-child::after {align-self: flex-end;width: 50%;}#sk-container-id-4 div.sk-parallel-item:last-child::after {align-self: flex-start;width: 50%;}#sk-container-id-4 div.sk-parallel-item:only-child::after {width: 0;}#sk-container-id-4 div.sk-dashed-wrapped {border: 1px dashed gray;margin: 0 0.4em 0.5em 0.4em;box-sizing: border-box;padding-bottom: 0.4em;background-color: white;}#sk-container-id-4 div.sk-label label {font-family: monospace;font-weight: bold;display: inline-block;line-height: 1.2em;}#sk-container-id-4 div.sk-label-container {text-align: center;}#sk-container-id-4 div.sk-container {/* jupyter's `normalize.less` sets `[hidden] { display: none; }` but bootstrap.min.css set `[hidden] { display: none !important; }` so we also need the `!important` here to be able to override the default hidden behavior on the sphinx rendered scikit-learn.org. See: https://github.com/scikit-learn/scikit-learn/issues/21755 */display: inline-block !important;position: relative;}#sk-container-id-4 div.sk-text-repr-fallback {display: none;}</style><div id=\"sk-container-id-4\" class=\"sk-top-container\"><div class=\"sk-text-repr-fallback\"><pre>GridSearchCV(cv=5, estimator=AdaBoostClassifier(), n_jobs=-1,\n",
       "             param_grid={&#x27;learning_rate&#x27;: array([0.1, 0.2, 0.3, 0.4, 0.5, 0.6, 0.7, 0.8, 0.9, 1. , 1.1, 1.2, 1.3,\n",
       "       1.4, 1.5, 1.6, 1.7, 1.8, 1.9, 2. ]),\n",
       "                         &#x27;n_estimators&#x27;: (10, 50, 100, 500, 1000, 5000)},\n",
       "             verbose=True)</pre><b>In a Jupyter environment, please rerun this cell to show the HTML representation or trust the notebook. <br />On GitHub, the HTML representation is unable to render, please try loading this page with nbviewer.org.</b></div><div class=\"sk-container\" hidden><div class=\"sk-item sk-dashed-wrapped\"><div class=\"sk-label-container\"><div class=\"sk-label sk-toggleable\"><input class=\"sk-toggleable__control sk-hidden--visually\" id=\"sk-estimator-id-10\" type=\"checkbox\" ><label for=\"sk-estimator-id-10\" class=\"sk-toggleable__label sk-toggleable__label-arrow\">GridSearchCV</label><div class=\"sk-toggleable__content\"><pre>GridSearchCV(cv=5, estimator=AdaBoostClassifier(), n_jobs=-1,\n",
       "             param_grid={&#x27;learning_rate&#x27;: array([0.1, 0.2, 0.3, 0.4, 0.5, 0.6, 0.7, 0.8, 0.9, 1. , 1.1, 1.2, 1.3,\n",
       "       1.4, 1.5, 1.6, 1.7, 1.8, 1.9, 2. ]),\n",
       "                         &#x27;n_estimators&#x27;: (10, 50, 100, 500, 1000, 5000)},\n",
       "             verbose=True)</pre></div></div></div><div class=\"sk-parallel\"><div class=\"sk-parallel-item\"><div class=\"sk-item\"><div class=\"sk-label-container\"><div class=\"sk-label sk-toggleable\"><input class=\"sk-toggleable__control sk-hidden--visually\" id=\"sk-estimator-id-11\" type=\"checkbox\" ><label for=\"sk-estimator-id-11\" class=\"sk-toggleable__label sk-toggleable__label-arrow\">estimator: AdaBoostClassifier</label><div class=\"sk-toggleable__content\"><pre>AdaBoostClassifier()</pre></div></div></div><div class=\"sk-serial\"><div class=\"sk-item\"><div class=\"sk-estimator sk-toggleable\"><input class=\"sk-toggleable__control sk-hidden--visually\" id=\"sk-estimator-id-12\" type=\"checkbox\" ><label for=\"sk-estimator-id-12\" class=\"sk-toggleable__label sk-toggleable__label-arrow\">AdaBoostClassifier</label><div class=\"sk-toggleable__content\"><pre>AdaBoostClassifier()</pre></div></div></div></div></div></div></div></div></div></div>"
      ],
      "text/plain": [
       "GridSearchCV(cv=5, estimator=AdaBoostClassifier(), n_jobs=-1,\n",
       "             param_grid={'learning_rate': array([0.1, 0.2, 0.3, 0.4, 0.5, 0.6, 0.7, 0.8, 0.9, 1. , 1.1, 1.2, 1.3,\n",
       "       1.4, 1.5, 1.6, 1.7, 1.8, 1.9, 2. ]),\n",
       "                         'n_estimators': (10, 50, 100, 500, 1000, 5000)},\n",
       "             verbose=True)"
      ]
     },
     "execution_count": 30,
     "metadata": {},
     "output_type": "execute_result"
    }
   ],
   "source": [
    "%%time\n",
    "np.random.seed(42)\n",
    "# Setup GridSearchCV for AdaBoostClassiffier\n",
    "ada_boost_clf_grid = {\"n_estimators\": (10, 50, 100, 500, 1000, 5000),\n",
    "                      \"learning_rate\": np.arange(0.1, 2.1, 0.1)}\n",
    "gs_ada_boost_clf = GridSearchCV(AdaBoostClassifier(),\n",
    "                                param_grid=ada_boost_clf_grid,\n",
    "                                cv=5,\n",
    "                                verbose=True,\n",
    "                                n_jobs=-1)\n",
    "gs_ada_boost_clf.fit(X_train, y_train)"
   ]
  },
  {
   "cell_type": "code",
   "execution_count": 31,
   "id": "19df4a23",
   "metadata": {},
   "outputs": [
    {
     "data": {
      "text/plain": [
       "(0.7597765363128491, 0.6922222222222223)"
      ]
     },
     "execution_count": 31,
     "metadata": {},
     "output_type": "execute_result"
    }
   ],
   "source": [
    "# Add the score to dictionary\n",
    "updated_models_scores[\"AdaBoostClassifier\"] = gs_ada_boost_clf.score(X_test, y_test)\n",
    "updated_models_scores[\"AdaBoostClassifier\"], models_score[\"AdaBoostClassifier\"]"
   ]
  },
  {
   "cell_type": "markdown",
   "id": "51d6f6ba",
   "metadata": {},
   "source": [
    "### 7.6 View the results "
   ]
  },
  {
   "cell_type": "code",
   "execution_count": 32,
   "id": "a5101dda",
   "metadata": {},
   "outputs": [
    {
     "data": {
      "text/plain": [
       "{'LogisticRegression': 0.770949720670391,\n",
       " 'LinearSVC': 0.6536312849162011,\n",
       " 'RandomForestClassifier': 0.8044692737430168,\n",
       " 'AdaBoostClassifier': 0.7597765363128491}"
      ]
     },
     "execution_count": 32,
     "metadata": {},
     "output_type": "execute_result"
    }
   ],
   "source": [
    "# Viev the updated models' scores \n",
    "updated_models_scores"
   ]
  },
  {
   "cell_type": "code",
   "execution_count": 33,
   "id": "e7934cf7",
   "metadata": {},
   "outputs": [
    {
     "data": {
      "text/html": [
       "<div>\n",
       "<style scoped>\n",
       "    .dataframe tbody tr th:only-of-type {\n",
       "        vertical-align: middle;\n",
       "    }\n",
       "\n",
       "    .dataframe tbody tr th {\n",
       "        vertical-align: top;\n",
       "    }\n",
       "\n",
       "    .dataframe thead th {\n",
       "        text-align: right;\n",
       "    }\n",
       "</style>\n",
       "<table border=\"1\" class=\"dataframe\">\n",
       "  <thead>\n",
       "    <tr style=\"text-align: right;\">\n",
       "      <th></th>\n",
       "      <th>LinearSVC</th>\n",
       "      <th>SVC</th>\n",
       "      <th>KNN</th>\n",
       "      <th>LogisticRegression</th>\n",
       "      <th>RandomForestClassifier</th>\n",
       "      <th>AdaBoostClassifier</th>\n",
       "    </tr>\n",
       "  </thead>\n",
       "  <tbody>\n",
       "    <tr>\n",
       "      <th>0</th>\n",
       "      <td>0.669841</td>\n",
       "      <td>0.620159</td>\n",
       "      <td>0.647778</td>\n",
       "      <td>0.743016</td>\n",
       "      <td>0.765397</td>\n",
       "      <td>0.692222</td>\n",
       "    </tr>\n",
       "    <tr>\n",
       "      <th>1</th>\n",
       "      <td>0.653631</td>\n",
       "      <td>NaN</td>\n",
       "      <td>NaN</td>\n",
       "      <td>0.770950</td>\n",
       "      <td>0.804469</td>\n",
       "      <td>0.759777</td>\n",
       "    </tr>\n",
       "  </tbody>\n",
       "</table>\n",
       "</div>"
      ],
      "text/plain": [
       "   LinearSVC       SVC       KNN  LogisticRegression  RandomForestClassifier  \\\n",
       "0   0.669841  0.620159  0.647778            0.743016                0.765397   \n",
       "1   0.653631       NaN       NaN            0.770950                0.804469   \n",
       "\n",
       "   AdaBoostClassifier  \n",
       "0            0.692222  \n",
       "1            0.759777  "
      ]
     },
     "execution_count": 33,
     "metadata": {},
     "output_type": "execute_result"
    }
   ],
   "source": [
    "# Create a data frame of models scores so we can compare them\n",
    "models_scores_df = pd.DataFrame([models_score, updated_models_scores])\n",
    "models_scores_df"
   ]
  },
  {
   "cell_type": "code",
   "execution_count": 34,
   "id": "d123dd8e",
   "metadata": {},
   "outputs": [
    {
     "data": {
      "image/png": "[encoded data removed]",
      "text/plain": [
       "<Figure size 640x480 with 1 Axes>"
      ]
     },
     "metadata": {},
     "output_type": "display_data"
    }
   ],
   "source": [
    "# Visualize the models scores and compare them\n",
    "plot = models_scores_df.T.plot.bar();\n",
    "plt.legend(['baseline', 'improved']);\n",
    "plt.title(\"Comparison of models baseline scores with improved scores\")\n",
    "plt.xlabel(\"Model name\")\n",
    "plt.ylabel(\"Accuracy\")\n",
    "plt.savefig(\"Models_scores_comperation.jpg\")"
   ]
  },
  {
   "cell_type": "markdown",
   "id": "6517a8d2",
   "metadata": {},
   "source": [
    "From the graph above we can clearly se that the impoved `RandomForestClassiffier` is performing the best out of all with about 93% accuracy! "
   ]
  },
  {
   "cell_type": "markdown",
   "id": "d6c816dc",
   "metadata": {},
   "source": [
    "## 8. Hyperparameter tuning for balanced data"
   ]
  },
  {
   "cell_type": "markdown",
   "id": "52b82093",
   "metadata": {},
   "source": [
    "We want to see if oversampling we performed earlier makes actuall difference and is it worth it.\n",
    "\n",
    "**Quick note:** for all the hyperparameter tuning I will be using the same code as earlier. "
   ]
  },
  {
   "cell_type": "code",
   "execution_count": 35,
   "id": "0388d3de",
   "metadata": {},
   "outputs": [
    {
     "name": "stderr",
     "output_type": "stream",
     "text": [
      "C:\\Users\\jakub\\Small-ML-Projects\\env\\lib\\site-packages\\sklearn\\svm\\_base.py:1225: ConvergenceWarning: Liblinear failed to converge, increase the number of iterations.\n",
      "  warnings.warn(\n",
      "C:\\Users\\jakub\\Small-ML-Projects\\env\\lib\\site-packages\\sklearn\\svm\\_base.py:1225: ConvergenceWarning: Liblinear failed to converge, increase the number of iterations.\n",
      "  warnings.warn(\n",
      "C:\\Users\\jakub\\Small-ML-Projects\\env\\lib\\site-packages\\sklearn\\svm\\_base.py:1225: ConvergenceWarning: Liblinear failed to converge, increase the number of iterations.\n",
      "  warnings.warn(\n",
      "C:\\Users\\jakub\\Small-ML-Projects\\env\\lib\\site-packages\\sklearn\\svm\\_base.py:1225: ConvergenceWarning: Liblinear failed to converge, increase the number of iterations.\n",
      "  warnings.warn(\n",
      "C:\\Users\\jakub\\Small-ML-Projects\\env\\lib\\site-packages\\sklearn\\svm\\_base.py:1225: ConvergenceWarning: Liblinear failed to converge, increase the number of iterations.\n",
      "  warnings.warn(\n",
      "C:\\Users\\jakub\\Small-ML-Projects\\env\\lib\\site-packages\\sklearn\\svm\\_base.py:1225: ConvergenceWarning: Liblinear failed to converge, increase the number of iterations.\n",
      "  warnings.warn(\n",
      "C:\\Users\\jakub\\Small-ML-Projects\\env\\lib\\site-packages\\sklearn\\linear_model\\_logistic.py:444: ConvergenceWarning: lbfgs failed to converge (status=1):\n",
      "STOP: TOTAL NO. of ITERATIONS REACHED LIMIT.\n",
      "\n",
      "Increase the number of iterations (max_iter) or scale the data as shown in:\n",
      "    https://scikit-learn.org/stable/modules/preprocessing.html\n",
      "Please also refer to the documentation for alternative solver options:\n",
      "    https://scikit-learn.org/stable/modules/linear_model.html#logistic-regression\n",
      "  n_iter_i = _check_optimize_result(\n",
      "C:\\Users\\jakub\\Small-ML-Projects\\env\\lib\\site-packages\\sklearn\\linear_model\\_logistic.py:444: ConvergenceWarning: lbfgs failed to converge (status=1):\n",
      "STOP: TOTAL NO. of ITERATIONS REACHED LIMIT.\n",
      "\n",
      "Increase the number of iterations (max_iter) or scale the data as shown in:\n",
      "    https://scikit-learn.org/stable/modules/preprocessing.html\n",
      "Please also refer to the documentation for alternative solver options:\n",
      "    https://scikit-learn.org/stable/modules/linear_model.html#logistic-regression\n",
      "  n_iter_i = _check_optimize_result(\n",
      "C:\\Users\\jakub\\Small-ML-Projects\\env\\lib\\site-packages\\sklearn\\linear_model\\_logistic.py:444: ConvergenceWarning: lbfgs failed to converge (status=1):\n",
      "STOP: TOTAL NO. of ITERATIONS REACHED LIMIT.\n",
      "\n",
      "Increase the number of iterations (max_iter) or scale the data as shown in:\n",
      "    https://scikit-learn.org/stable/modules/preprocessing.html\n",
      "Please also refer to the documentation for alternative solver options:\n",
      "    https://scikit-learn.org/stable/modules/linear_model.html#logistic-regression\n",
      "  n_iter_i = _check_optimize_result(\n",
      "C:\\Users\\jakub\\Small-ML-Projects\\env\\lib\\site-packages\\sklearn\\linear_model\\_logistic.py:444: ConvergenceWarning: lbfgs failed to converge (status=1):\n",
      "STOP: TOTAL NO. of ITERATIONS REACHED LIMIT.\n",
      "\n",
      "Increase the number of iterations (max_iter) or scale the data as shown in:\n",
      "    https://scikit-learn.org/stable/modules/preprocessing.html\n",
      "Please also refer to the documentation for alternative solver options:\n",
      "    https://scikit-learn.org/stable/modules/linear_model.html#logistic-regression\n",
      "  n_iter_i = _check_optimize_result(\n",
      "C:\\Users\\jakub\\Small-ML-Projects\\env\\lib\\site-packages\\sklearn\\linear_model\\_logistic.py:444: ConvergenceWarning: lbfgs failed to converge (status=1):\n",
      "STOP: TOTAL NO. of ITERATIONS REACHED LIMIT.\n",
      "\n",
      "Increase the number of iterations (max_iter) or scale the data as shown in:\n",
      "    https://scikit-learn.org/stable/modules/preprocessing.html\n",
      "Please also refer to the documentation for alternative solver options:\n",
      "    https://scikit-learn.org/stable/modules/linear_model.html#logistic-regression\n",
      "  n_iter_i = _check_optimize_result(\n",
      "C:\\Users\\jakub\\Small-ML-Projects\\env\\lib\\site-packages\\sklearn\\linear_model\\_logistic.py:444: ConvergenceWarning: lbfgs failed to converge (status=1):\n",
      "STOP: TOTAL NO. of ITERATIONS REACHED LIMIT.\n",
      "\n",
      "Increase the number of iterations (max_iter) or scale the data as shown in:\n",
      "    https://scikit-learn.org/stable/modules/preprocessing.html\n",
      "Please also refer to the documentation for alternative solver options:\n",
      "    https://scikit-learn.org/stable/modules/linear_model.html#logistic-regression\n",
      "  n_iter_i = _check_optimize_result(\n"
     ]
    },
    {
     "name": "stdout",
     "output_type": "stream",
     "text": [
      "CPU times: total: 188 ms\n",
      "Wall time: 1.25 s\n"
     ]
    },
    {
     "data": {
      "text/plain": [
       "{'LinearSVC': 0.6698412698412698,\n",
       " 'SVC': 0.6201587301587301,\n",
       " 'KNN': 0.6477777777777778,\n",
       " 'LogisticRegression': 0.743015873015873,\n",
       " 'RandomForestClassifier': 0.7653968253968254,\n",
       " 'AdaBoostClassifier': 0.6922222222222223}"
      ]
     },
     "execution_count": 35,
     "metadata": {},
     "output_type": "execute_result"
    }
   ],
   "source": [
    "%%time\n",
    "np.random.seed(42)\n",
    "# Let's see how our model performs on balanced data\n",
    "models_score_smote = fit_and_score(model_dict, X_train_smote, y_train_smote);\n",
    "models_score_smote"
   ]
  },
  {
   "cell_type": "markdown",
   "id": "06795e90",
   "metadata": {},
   "source": [
    "We can already see that some models performed better, but some did worst."
   ]
  },
  {
   "cell_type": "code",
   "execution_count": 36,
   "id": "cc1655df",
   "metadata": {},
   "outputs": [],
   "source": [
    "# Create an empty dictionary for new results to compare later on\n",
    "updated_models_score_smote = {}"
   ]
  },
  {
   "cell_type": "markdown",
   "id": "4a1c4389",
   "metadata": {},
   "source": [
    "### 8.1 Hyperparameter tuning dor SVC with balanced data"
   ]
  },
  {
   "cell_type": "markdown",
   "id": "3131fb64",
   "metadata": {},
   "source": [
    "%%time\n",
    "# GridSearchCV for SVC\n",
    "svc_grid = {\"C\": (0.1, 1, 10, 100, 1000),\n",
    "            \"gamma\": (0.1, 1, 10, 100),\n",
    "            \"kernel\": (\"linear\", \"rbf\", \"poly\")}\n",
    "\n",
    "# Setup GridSearchCV for SVC\n",
    "gs_svc_smote = GridSearchCV(SVC(),\n",
    "                      param_grid=svc_grid,\n",
    "                      cv=5,\n",
    "                      verbose=True)\n",
    "gs_svc_smote.fit(X_train_smote, y_train_smote);\n",
    "updated_models_scores_smote[\"SVC\"] = gs_svc_smote.score(X_test, y_test)\n",
    "updated_models_scores_smote"
   ]
  },
  {
   "cell_type": "markdown",
   "id": "b8484b17",
   "metadata": {},
   "source": [
    "### 8.2 Hyperparameter tuning for LogisticRegression with balanced data"
   ]
  },
  {
   "cell_type": "code",
   "execution_count": 37,
   "id": "610a2647",
   "metadata": {},
   "outputs": [
    {
     "name": "stdout",
     "output_type": "stream",
     "text": [
      "Fitting 5 folds for each of 450 candidates, totalling 2250 fits\n",
      "CPU times: total: 6.12 s\n",
      "Wall time: 1min 10s\n"
     ]
    }
   ],
   "source": [
    "%%time\n",
    "np.random.seed(42)\n",
    "# Setup GridSearchCV for LogisticRegression\n",
    "logistic_regression_grid = {\"C\": (0.1, 1, 10, 100, 1000),\n",
    "                            \"max_iter\": np.arange(100,1000,10)}\n",
    "gs_logistic_regression_smote = GridSearchCV(LogisticRegression(n_jobs=-1),\n",
    "                                      param_grid=logistic_regression_grid,\n",
    "                                      cv=5,\n",
    "                                      verbose=True,\n",
    "                                      n_jobs=-1)\n",
    "gs_logistic_regression_smote.fit(X_train_smote, y_train_smote);\n",
    "updated_models_score_smote[\"LogisticRegression\"] = gs_logistic_regression_smote.score(X_test, y_test)"
   ]
  },
  {
   "cell_type": "markdown",
   "id": "418da291",
   "metadata": {},
   "source": [
    "### 8.3 Hyperparameter tuning for LinearSVC with balanced data"
   ]
  },
  {
   "cell_type": "code",
   "execution_count": 38,
   "id": "0913f7fd",
   "metadata": {},
   "outputs": [
    {
     "name": "stdout",
     "output_type": "stream",
     "text": [
      "Fitting 5 folds for each of 5 candidates, totalling 25 fits\n",
      "CPU times: total: 46.9 ms\n",
      "Wall time: 292 ms\n"
     ]
    },
    {
     "name": "stderr",
     "output_type": "stream",
     "text": [
      "C:\\Users\\jakub\\Small-ML-Projects\\env\\lib\\site-packages\\sklearn\\svm\\_base.py:1225: ConvergenceWarning: Liblinear failed to converge, increase the number of iterations.\n",
      "  warnings.warn(\n"
     ]
    },
    {
     "data": {
      "text/plain": [
       "{'LogisticRegression': 0.7486033519553073, 'LinearSVC': 0.6201117318435754}"
      ]
     },
     "execution_count": 38,
     "metadata": {},
     "output_type": "execute_result"
    }
   ],
   "source": [
    "%%time\n",
    "np.random.seed(42)\n",
    "# Setup GridSearchCV for LinearnSVC\n",
    "linear_svc_grid = {\"C\": (0.1, 1, 10, 100, 1000)}\n",
    "gs_linear_svc_smote = GridSearchCV(LinearSVC(),\n",
    "                             param_grid=linear_svc_grid,\n",
    "                             cv=5,\n",
    "                             verbose=True, \n",
    "                             n_jobs=-1)\n",
    "gs_linear_svc_smote.fit(X_train_smote, y_train_smote);\n",
    "updated_models_score_smote[\"LinearSVC\"] = gs_linear_svc_smote.score(X_test, y_test)\n",
    "updated_models_score_smote"
   ]
  },
  {
   "cell_type": "markdown",
   "id": "20b624b8",
   "metadata": {},
   "source": [
    "### 8.4 Hyperparameter tuning for RandomForestClassifier with balanced data"
   ]
  },
  {
   "cell_type": "code",
   "execution_count": 39,
   "id": "3a36dd68",
   "metadata": {},
   "outputs": [
    {
     "name": "stdout",
     "output_type": "stream",
     "text": [
      "Fitting 5 folds for each of 1900 candidates, totalling 9500 fits\n",
      "CPU times: total: 33.7 s\n",
      "Wall time: 1h 47min 7s\n"
     ]
    },
    {
     "data": {
      "text/plain": [
       "{'LogisticRegression': 0.7486033519553073,\n",
       " 'LinearSVC': 0.6201117318435754,\n",
       " 'RandomForestClassifier': 0.776536312849162}"
      ]
     },
     "execution_count": 39,
     "metadata": {},
     "output_type": "execute_result"
    }
   ],
   "source": [
    "%%time\n",
    "np.random.seed(42)\n",
    "# Setup GridSearchCV for RandomForestClassifier\n",
    "random_forest_clf_grid = {\"n_estimators\": np.arange(100, 2000, 100),\n",
    "                          \"max_depth\": (5, 8, 15, 25, 30),\n",
    "                          \"min_samples_split\": (2, 5, 10, 15, 100),\n",
    "                          \"min_samples_leaf\": (1, 2, 5, 10)}\n",
    "gs_random_forest_clf_smote = GridSearchCV(RandomForestClassifier(n_jobs=-1),\n",
    "                                    param_grid=random_forest_clf_grid,\n",
    "                                    cv=5,\n",
    "                                    verbose=True,\n",
    "                                    n_jobs=-1)\n",
    "gs_random_forest_clf_smote.fit(X_train_smote, y_train_smote);\n",
    "updated_models_score_smote[\"RandomForestClassifier\"] = gs_random_forest_clf_smote.score(X_test, y_test)\n",
    "updated_models_score_smote"
   ]
  },
  {
   "cell_type": "markdown",
   "id": "68156084",
   "metadata": {},
   "source": [
    "### 8.5 Hyperparameter tuning for AdaBoostClassifier with balanced data"
   ]
  },
  {
   "cell_type": "code",
   "execution_count": 40,
   "id": "514b35b6",
   "metadata": {},
   "outputs": [
    {
     "name": "stdout",
     "output_type": "stream",
     "text": [
      "Fitting 5 folds for each of 120 candidates, totalling 600 fits\n",
      "CPU times: total: 3.53 s\n",
      "Wall time: 6min 18s\n"
     ]
    },
    {
     "data": {
      "text/plain": [
       "{'LogisticRegression': 0.7486033519553073,\n",
       " 'LinearSVC': 0.6201117318435754,\n",
       " 'RandomForestClassifier': 0.776536312849162,\n",
       " 'AdaBoostClassifier': 0.7597765363128491}"
      ]
     },
     "execution_count": 40,
     "metadata": {},
     "output_type": "execute_result"
    }
   ],
   "source": [
    "%%time\n",
    "np.random.seed(42)\n",
    "# Setup GridSearchCV for AdaBoostClassiffier\n",
    "ada_boost_clf_grid = {\"n_estimators\": (10, 50, 100, 500, 1000, 5000),\n",
    "                      \"learning_rate\": np.arange(0.1, 2.1, 0.1)}\n",
    "gs_ada_boost_clf_smote = GridSearchCV(AdaBoostClassifier(),\n",
    "                                param_grid=ada_boost_clf_grid,\n",
    "                                cv=5,\n",
    "                                verbose=True,\n",
    "                                n_jobs=-1)\n",
    "gs_ada_boost_clf_smote.fit(X_train_smote, y_train_smote); \n",
    "updated_models_score_smote[\"AdaBoostClassifier\"] = gs_ada_boost_clf_smote.score(X_test, y_test)\n",
    "updated_models_score_smote"
   ]
  },
  {
   "cell_type": "markdown",
   "id": "29c0bcd4",
   "metadata": {},
   "source": [
    "### 8.6 Visualizing the results"
   ]
  },
  {
   "cell_type": "code",
   "execution_count": 41,
   "id": "2d72039b",
   "metadata": {},
   "outputs": [
    {
     "data": {
      "text/html": [
       "<div>\n",
       "<style scoped>\n",
       "    .dataframe tbody tr th:only-of-type {\n",
       "        vertical-align: middle;\n",
       "    }\n",
       "\n",
       "    .dataframe tbody tr th {\n",
       "        vertical-align: top;\n",
       "    }\n",
       "\n",
       "    .dataframe thead th {\n",
       "        text-align: right;\n",
       "    }\n",
       "</style>\n",
       "<table border=\"1\" class=\"dataframe\">\n",
       "  <thead>\n",
       "    <tr style=\"text-align: right;\">\n",
       "      <th></th>\n",
       "      <th>LinearSVC</th>\n",
       "      <th>SVC</th>\n",
       "      <th>KNN</th>\n",
       "      <th>LogisticRegression</th>\n",
       "      <th>RandomForestClassifier</th>\n",
       "      <th>AdaBoostClassifier</th>\n",
       "    </tr>\n",
       "  </thead>\n",
       "  <tbody>\n",
       "    <tr>\n",
       "      <th>0</th>\n",
       "      <td>0.669841</td>\n",
       "      <td>0.620159</td>\n",
       "      <td>0.647778</td>\n",
       "      <td>0.743016</td>\n",
       "      <td>0.765397</td>\n",
       "      <td>0.692222</td>\n",
       "    </tr>\n",
       "    <tr>\n",
       "      <th>1</th>\n",
       "      <td>0.620112</td>\n",
       "      <td>NaN</td>\n",
       "      <td>NaN</td>\n",
       "      <td>0.748603</td>\n",
       "      <td>0.776536</td>\n",
       "      <td>0.759777</td>\n",
       "    </tr>\n",
       "  </tbody>\n",
       "</table>\n",
       "</div>"
      ],
      "text/plain": [
       "   LinearSVC       SVC       KNN  LogisticRegression  RandomForestClassifier  \\\n",
       "0   0.669841  0.620159  0.647778            0.743016                0.765397   \n",
       "1   0.620112       NaN       NaN            0.748603                0.776536   \n",
       "\n",
       "   AdaBoostClassifier  \n",
       "0            0.692222  \n",
       "1            0.759777  "
      ]
     },
     "execution_count": 41,
     "metadata": {},
     "output_type": "execute_result"
    }
   ],
   "source": [
    "# Create a data frame of models scores so we can compare them\n",
    "models_scores_smote_df = pd.DataFrame([models_score_smote, updated_models_score_smote])\n",
    "models_scores_smote_df"
   ]
  },
  {
   "cell_type": "code",
   "execution_count": 42,
   "id": "5457a59e",
   "metadata": {},
   "outputs": [
    {
     "data": {
      "image/png": "[encoded data removed]",
      "text/plain": [
       "<Figure size 640x480 with 1 Axes>"
      ]
     },
     "metadata": {},
     "output_type": "display_data"
    }
   ],
   "source": [
    "# Visualize the models scores and compare them\n",
    "plot = models_scores_smote_df.T.plot.bar();\n",
    "plt.legend(['baseline', 'improved']);\n",
    "plt.title(\"Comparison of models scores with improved scores (balanced data)\")\n",
    "plt.xlabel(\"Model name\")\n",
    "plt.ylabel(\"Accuracy\")\n",
    "plt.savefig(\"Models_scores_with_smote_comperation.jpg\")"
   ]
  },
  {
   "cell_type": "markdown",
   "id": "d256c08b",
   "metadata": {},
   "source": [
    "## 9. Making final predictions"
   ]
  },
  {
   "cell_type": "code",
   "execution_count": 43,
   "id": "0c7ee072",
   "metadata": {},
   "outputs": [
    {
     "data": {
      "text/html": [
       "<div>\n",
       "<style scoped>\n",
       "    .dataframe tbody tr th:only-of-type {\n",
       "        vertical-align: middle;\n",
       "    }\n",
       "\n",
       "    .dataframe tbody tr th {\n",
       "        vertical-align: top;\n",
       "    }\n",
       "\n",
       "    .dataframe thead th {\n",
       "        text-align: right;\n",
       "    }\n",
       "</style>\n",
       "<table border=\"1\" class=\"dataframe\">\n",
       "  <thead>\n",
       "    <tr style=\"text-align: right;\">\n",
       "      <th></th>\n",
       "      <th>PassengerId</th>\n",
       "      <th>Pclass</th>\n",
       "      <th>Name</th>\n",
       "      <th>Sex</th>\n",
       "      <th>Age</th>\n",
       "      <th>SibSp</th>\n",
       "      <th>Parch</th>\n",
       "      <th>Ticket</th>\n",
       "      <th>Fare</th>\n",
       "      <th>Cabin</th>\n",
       "      <th>Embarked</th>\n",
       "    </tr>\n",
       "  </thead>\n",
       "  <tbody>\n",
       "    <tr>\n",
       "      <th>0</th>\n",
       "      <td>892</td>\n",
       "      <td>3</td>\n",
       "      <td>Kelly, Mr. James</td>\n",
       "      <td>male</td>\n",
       "      <td>34.5</td>\n",
       "      <td>0</td>\n",
       "      <td>0</td>\n",
       "      <td>330911</td>\n",
       "      <td>7.8292</td>\n",
       "      <td>NaN</td>\n",
       "      <td>Q</td>\n",
       "    </tr>\n",
       "    <tr>\n",
       "      <th>1</th>\n",
       "      <td>893</td>\n",
       "      <td>3</td>\n",
       "      <td>Wilkes, Mrs. James (Ellen Needs)</td>\n",
       "      <td>female</td>\n",
       "      <td>47.0</td>\n",
       "      <td>1</td>\n",
       "      <td>0</td>\n",
       "      <td>363272</td>\n",
       "      <td>7.0000</td>\n",
       "      <td>NaN</td>\n",
       "      <td>S</td>\n",
       "    </tr>\n",
       "    <tr>\n",
       "      <th>2</th>\n",
       "      <td>894</td>\n",
       "      <td>2</td>\n",
       "      <td>Myles, Mr. Thomas Francis</td>\n",
       "      <td>male</td>\n",
       "      <td>62.0</td>\n",
       "      <td>0</td>\n",
       "      <td>0</td>\n",
       "      <td>240276</td>\n",
       "      <td>9.6875</td>\n",
       "      <td>NaN</td>\n",
       "      <td>Q</td>\n",
       "    </tr>\n",
       "    <tr>\n",
       "      <th>3</th>\n",
       "      <td>895</td>\n",
       "      <td>3</td>\n",
       "      <td>Wirz, Mr. Albert</td>\n",
       "      <td>male</td>\n",
       "      <td>27.0</td>\n",
       "      <td>0</td>\n",
       "      <td>0</td>\n",
       "      <td>315154</td>\n",
       "      <td>8.6625</td>\n",
       "      <td>NaN</td>\n",
       "      <td>S</td>\n",
       "    </tr>\n",
       "    <tr>\n",
       "      <th>4</th>\n",
       "      <td>896</td>\n",
       "      <td>3</td>\n",
       "      <td>Hirvonen, Mrs. Alexander (Helga E Lindqvist)</td>\n",
       "      <td>female</td>\n",
       "      <td>22.0</td>\n",
       "      <td>1</td>\n",
       "      <td>1</td>\n",
       "      <td>3101298</td>\n",
       "      <td>12.2875</td>\n",
       "      <td>NaN</td>\n",
       "      <td>S</td>\n",
       "    </tr>\n",
       "    <tr>\n",
       "      <th>...</th>\n",
       "      <td>...</td>\n",
       "      <td>...</td>\n",
       "      <td>...</td>\n",
       "      <td>...</td>\n",
       "      <td>...</td>\n",
       "      <td>...</td>\n",
       "      <td>...</td>\n",
       "      <td>...</td>\n",
       "      <td>...</td>\n",
       "      <td>...</td>\n",
       "      <td>...</td>\n",
       "    </tr>\n",
       "    <tr>\n",
       "      <th>413</th>\n",
       "      <td>1305</td>\n",
       "      <td>3</td>\n",
       "      <td>Spector, Mr. Woolf</td>\n",
       "      <td>male</td>\n",
       "      <td>NaN</td>\n",
       "      <td>0</td>\n",
       "      <td>0</td>\n",
       "      <td>A.5. 3236</td>\n",
       "      <td>8.0500</td>\n",
       "      <td>NaN</td>\n",
       "      <td>S</td>\n",
       "    </tr>\n",
       "    <tr>\n",
       "      <th>414</th>\n",
       "      <td>1306</td>\n",
       "      <td>1</td>\n",
       "      <td>Oliva y Ocana, Dona. Fermina</td>\n",
       "      <td>female</td>\n",
       "      <td>39.0</td>\n",
       "      <td>0</td>\n",
       "      <td>0</td>\n",
       "      <td>PC 17758</td>\n",
       "      <td>108.9000</td>\n",
       "      <td>C105</td>\n",
       "      <td>C</td>\n",
       "    </tr>\n",
       "    <tr>\n",
       "      <th>415</th>\n",
       "      <td>1307</td>\n",
       "      <td>3</td>\n",
       "      <td>Saether, Mr. Simon Sivertsen</td>\n",
       "      <td>male</td>\n",
       "      <td>38.5</td>\n",
       "      <td>0</td>\n",
       "      <td>0</td>\n",
       "      <td>SOTON/O.Q. 3101262</td>\n",
       "      <td>7.2500</td>\n",
       "      <td>NaN</td>\n",
       "      <td>S</td>\n",
       "    </tr>\n",
       "    <tr>\n",
       "      <th>416</th>\n",
       "      <td>1308</td>\n",
       "      <td>3</td>\n",
       "      <td>Ware, Mr. Frederick</td>\n",
       "      <td>male</td>\n",
       "      <td>NaN</td>\n",
       "      <td>0</td>\n",
       "      <td>0</td>\n",
       "      <td>359309</td>\n",
       "      <td>8.0500</td>\n",
       "      <td>NaN</td>\n",
       "      <td>S</td>\n",
       "    </tr>\n",
       "    <tr>\n",
       "      <th>417</th>\n",
       "      <td>1309</td>\n",
       "      <td>3</td>\n",
       "      <td>Peter, Master. Michael J</td>\n",
       "      <td>male</td>\n",
       "      <td>NaN</td>\n",
       "      <td>1</td>\n",
       "      <td>1</td>\n",
       "      <td>2668</td>\n",
       "      <td>22.3583</td>\n",
       "      <td>NaN</td>\n",
       "      <td>C</td>\n",
       "    </tr>\n",
       "  </tbody>\n",
       "</table>\n",
       "<p>418 rows × 11 columns</p>\n",
       "</div>"
      ],
      "text/plain": [
       "     PassengerId  Pclass                                          Name  \\\n",
       "0            892       3                              Kelly, Mr. James   \n",
       "1            893       3              Wilkes, Mrs. James (Ellen Needs)   \n",
       "2            894       2                     Myles, Mr. Thomas Francis   \n",
       "3            895       3                              Wirz, Mr. Albert   \n",
       "4            896       3  Hirvonen, Mrs. Alexander (Helga E Lindqvist)   \n",
       "..           ...     ...                                           ...   \n",
       "413         1305       3                            Spector, Mr. Woolf   \n",
       "414         1306       1                  Oliva y Ocana, Dona. Fermina   \n",
       "415         1307       3                  Saether, Mr. Simon Sivertsen   \n",
       "416         1308       3                           Ware, Mr. Frederick   \n",
       "417         1309       3                      Peter, Master. Michael J   \n",
       "\n",
       "        Sex   Age  SibSp  Parch              Ticket      Fare Cabin Embarked  \n",
       "0      male  34.5      0      0              330911    7.8292   NaN        Q  \n",
       "1    female  47.0      1      0              363272    7.0000   NaN        S  \n",
       "2      male  62.0      0      0              240276    9.6875   NaN        Q  \n",
       "3      male  27.0      0      0              315154    8.6625   NaN        S  \n",
       "4    female  22.0      1      1             3101298   12.2875   NaN        S  \n",
       "..      ...   ...    ...    ...                 ...       ...   ...      ...  \n",
       "413    male   NaN      0      0           A.5. 3236    8.0500   NaN        S  \n",
       "414  female  39.0      0      0            PC 17758  108.9000  C105        C  \n",
       "415    male  38.5      0      0  SOTON/O.Q. 3101262    7.2500   NaN        S  \n",
       "416    male   NaN      0      0              359309    8.0500   NaN        S  \n",
       "417    male   NaN      1      1                2668   22.3583   NaN        C  \n",
       "\n",
       "[418 rows x 11 columns]"
      ]
     },
     "execution_count": 43,
     "metadata": {},
     "output_type": "execute_result"
    }
   ],
   "source": [
    "# Import the test data\n",
    "test_df = pd.read_csv(\"test.csv\")\n",
    "test_df"
   ]
  },
  {
   "cell_type": "code",
   "execution_count": 44,
   "id": "50083214",
   "metadata": {},
   "outputs": [
    {
     "name": "stderr",
     "output_type": "stream",
     "text": [
      "C:\\Users\\jakub\\AppData\\Local\\Temp\\ipykernel_13416\\3211436174.py:23: SettingWithCopyWarning: \n",
      "A value is trying to be set on a copy of a slice from a DataFrame\n",
      "\n",
      "See the caveats in the documentation: https://pandas.pydata.org/pandas-docs/stable/user_guide/indexing.html#returning-a-view-versus-a-copy\n",
      "  df[\"wasAgeMissing\"][i] = False\n",
      "C:\\Users\\jakub\\AppData\\Local\\Temp\\ipykernel_13416\\3211436174.py:21: SettingWithCopyWarning: \n",
      "A value is trying to be set on a copy of a slice from a DataFrame\n",
      "\n",
      "See the caveats in the documentation: https://pandas.pydata.org/pandas-docs/stable/user_guide/indexing.html#returning-a-view-versus-a-copy\n",
      "  df[\"wasAgeMissing\"][i] = True\n"
     ]
    },
    {
     "ename": "KeyError",
     "evalue": "418",
     "output_type": "error",
     "traceback": [
      "\u001b[1;31m---------------------------------------------------------------------------\u001b[0m",
      "\u001b[1;31mValueError\u001b[0m                                Traceback (most recent call last)",
      "File \u001b[1;32m~\\Small-ML-Projects\\env\\lib\\site-packages\\pandas\\core\\indexes\\range.py:385\u001b[0m, in \u001b[0;36mRangeIndex.get_loc\u001b[1;34m(self, key, method, tolerance)\u001b[0m\n\u001b[0;32m    384\u001b[0m \u001b[38;5;28;01mtry\u001b[39;00m:\n\u001b[1;32m--> 385\u001b[0m     \u001b[38;5;28;01mreturn\u001b[39;00m \u001b[38;5;28;43mself\u001b[39;49m\u001b[38;5;241;43m.\u001b[39;49m\u001b[43m_range\u001b[49m\u001b[38;5;241;43m.\u001b[39;49m\u001b[43mindex\u001b[49m\u001b[43m(\u001b[49m\u001b[43mnew_key\u001b[49m\u001b[43m)\u001b[49m\n\u001b[0;32m    386\u001b[0m \u001b[38;5;28;01mexcept\u001b[39;00m \u001b[38;5;167;01mValueError\u001b[39;00m \u001b[38;5;28;01mas\u001b[39;00m err:\n",
      "\u001b[1;31mValueError\u001b[0m: 418 is not in range",
      "\nThe above exception was the direct cause of the following exception:\n",
      "\u001b[1;31mKeyError\u001b[0m                                  Traceback (most recent call last)",
      "Input \u001b[1;32mIn [44]\u001b[0m, in \u001b[0;36m<cell line: 2>\u001b[1;34m()\u001b[0m\n\u001b[0;32m      1\u001b[0m \u001b[38;5;66;03m# Transforming test_df using our fuction\u001b[39;00m\n\u001b[1;32m----> 2\u001b[0m transformed_test_df \u001b[38;5;241m=\u001b[39m \u001b[43mget_df_ready\u001b[49m\u001b[43m(\u001b[49m\u001b[43mtest_df\u001b[49m\u001b[43m,\u001b[49m\u001b[43m \u001b[49m\u001b[43misTestSet\u001b[49m\u001b[38;5;241;43m=\u001b[39;49m\u001b[38;5;28;43;01mTrue\u001b[39;49;00m\u001b[43m)\u001b[49m\n\u001b[0;32m      3\u001b[0m transformed_test_df\n",
      "Input \u001b[1;32mIn [6]\u001b[0m, in \u001b[0;36mget_df_ready\u001b[1;34m(df, isTestSet)\u001b[0m\n\u001b[0;32m     18\u001b[0m \u001b[38;5;66;03m# Add a column that indicated if the Age value was a NaN\u001b[39;00m\n\u001b[0;32m     19\u001b[0m \u001b[38;5;28;01mfor\u001b[39;00m i \u001b[38;5;129;01min\u001b[39;00m \u001b[38;5;28mrange\u001b[39m(\u001b[38;5;241m0\u001b[39m,\u001b[38;5;241m891\u001b[39m):\n\u001b[1;32m---> 20\u001b[0m     \u001b[38;5;28;01mif\u001b[39;00m \u001b[43mdf\u001b[49m\u001b[43m[\u001b[49m\u001b[38;5;124;43m\"\u001b[39;49m\u001b[38;5;124;43mAge\u001b[39;49m\u001b[38;5;124;43m\"\u001b[39;49m\u001b[43m]\u001b[49m\u001b[43m[\u001b[49m\u001b[43mi\u001b[49m\u001b[43m]\u001b[49m\u001b[38;5;241m==\u001b[39m age_median:\n\u001b[0;32m     21\u001b[0m         df[\u001b[38;5;124m\"\u001b[39m\u001b[38;5;124mwasAgeMissing\u001b[39m\u001b[38;5;124m\"\u001b[39m][i] \u001b[38;5;241m=\u001b[39m \u001b[38;5;28;01mTrue\u001b[39;00m\n\u001b[0;32m     22\u001b[0m     \u001b[38;5;28;01melse\u001b[39;00m:\n",
      "File \u001b[1;32m~\\Small-ML-Projects\\env\\lib\\site-packages\\pandas\\core\\series.py:958\u001b[0m, in \u001b[0;36mSeries.__getitem__\u001b[1;34m(self, key)\u001b[0m\n\u001b[0;32m    955\u001b[0m     \u001b[38;5;28;01mreturn\u001b[39;00m \u001b[38;5;28mself\u001b[39m\u001b[38;5;241m.\u001b[39m_values[key]\n\u001b[0;32m    957\u001b[0m \u001b[38;5;28;01melif\u001b[39;00m key_is_scalar:\n\u001b[1;32m--> 958\u001b[0m     \u001b[38;5;28;01mreturn\u001b[39;00m \u001b[38;5;28;43mself\u001b[39;49m\u001b[38;5;241;43m.\u001b[39;49m\u001b[43m_get_value\u001b[49m\u001b[43m(\u001b[49m\u001b[43mkey\u001b[49m\u001b[43m)\u001b[49m\n\u001b[0;32m    960\u001b[0m \u001b[38;5;28;01mif\u001b[39;00m is_hashable(key):\n\u001b[0;32m    961\u001b[0m     \u001b[38;5;66;03m# Otherwise index.get_value will raise InvalidIndexError\u001b[39;00m\n\u001b[0;32m    962\u001b[0m     \u001b[38;5;28;01mtry\u001b[39;00m:\n\u001b[0;32m    963\u001b[0m         \u001b[38;5;66;03m# For labels that don't resolve as scalars like tuples and frozensets\u001b[39;00m\n",
      "File \u001b[1;32m~\\Small-ML-Projects\\env\\lib\\site-packages\\pandas\\core\\series.py:1069\u001b[0m, in \u001b[0;36mSeries._get_value\u001b[1;34m(self, label, takeable)\u001b[0m\n\u001b[0;32m   1066\u001b[0m     \u001b[38;5;28;01mreturn\u001b[39;00m \u001b[38;5;28mself\u001b[39m\u001b[38;5;241m.\u001b[39m_values[label]\n\u001b[0;32m   1068\u001b[0m \u001b[38;5;66;03m# Similar to Index.get_value, but we do not fall back to positional\u001b[39;00m\n\u001b[1;32m-> 1069\u001b[0m loc \u001b[38;5;241m=\u001b[39m \u001b[38;5;28;43mself\u001b[39;49m\u001b[38;5;241;43m.\u001b[39;49m\u001b[43mindex\u001b[49m\u001b[38;5;241;43m.\u001b[39;49m\u001b[43mget_loc\u001b[49m\u001b[43m(\u001b[49m\u001b[43mlabel\u001b[49m\u001b[43m)\u001b[49m\n\u001b[0;32m   1070\u001b[0m \u001b[38;5;28;01mreturn\u001b[39;00m \u001b[38;5;28mself\u001b[39m\u001b[38;5;241m.\u001b[39mindex\u001b[38;5;241m.\u001b[39m_get_values_for_loc(\u001b[38;5;28mself\u001b[39m, loc, label)\n",
      "File \u001b[1;32m~\\Small-ML-Projects\\env\\lib\\site-packages\\pandas\\core\\indexes\\range.py:387\u001b[0m, in \u001b[0;36mRangeIndex.get_loc\u001b[1;34m(self, key, method, tolerance)\u001b[0m\n\u001b[0;32m    385\u001b[0m         \u001b[38;5;28;01mreturn\u001b[39;00m \u001b[38;5;28mself\u001b[39m\u001b[38;5;241m.\u001b[39m_range\u001b[38;5;241m.\u001b[39mindex(new_key)\n\u001b[0;32m    386\u001b[0m     \u001b[38;5;28;01mexcept\u001b[39;00m \u001b[38;5;167;01mValueError\u001b[39;00m \u001b[38;5;28;01mas\u001b[39;00m err:\n\u001b[1;32m--> 387\u001b[0m         \u001b[38;5;28;01mraise\u001b[39;00m \u001b[38;5;167;01mKeyError\u001b[39;00m(key) \u001b[38;5;28;01mfrom\u001b[39;00m \u001b[38;5;21;01merr\u001b[39;00m\n\u001b[0;32m    388\u001b[0m \u001b[38;5;28mself\u001b[39m\u001b[38;5;241m.\u001b[39m_check_indexing_error(key)\n\u001b[0;32m    389\u001b[0m \u001b[38;5;28;01mraise\u001b[39;00m \u001b[38;5;167;01mKeyError\u001b[39;00m(key)\n",
      "\u001b[1;31mKeyError\u001b[0m: 418"
     ]
    }
   ],
   "source": [
    "# Transforming test_df using our fuction\n",
    "transformed_test_df = get_df_ready(test_df, isTestSet=True)\n",
    "transformed_test_df"
   ]
  },
  {
   "cell_type": "code",
   "execution_count": null,
   "id": "f74ba946",
   "metadata": {},
   "outputs": [],
   "source": [
    "transformed_test_df.isna().sum()"
   ]
  },
  {
   "cell_type": "code",
   "execution_count": null,
   "id": "76ba37bb",
   "metadata": {},
   "outputs": [],
   "source": [
    "transformed_test_df.remainder__Fare.fillna(value=transformed_test_df.remainder__Fare.median(), inplace=True)\n",
    "transformed_test_df.isna().sum()"
   ]
  },
  {
   "cell_type": "code",
   "execution_count": null,
   "id": "afe25d77",
   "metadata": {},
   "outputs": [],
   "source": [
    "X_train"
   ]
  },
  {
   "cell_type": "markdown",
   "id": "4c6dc1c9",
   "metadata": {},
   "source": [
    "There is a small problem, because in our training dataset we had a column embarked_unknown because we had missing values. In the test dataset we don't have this issue, so we are missing one column, which i will add mannualy and it will be filled with zeros. "
   ]
  },
  {
   "cell_type": "code",
   "execution_count": null,
   "id": "90655dc6",
   "metadata": {},
   "outputs": [],
   "source": [
    "# Adding that one missing column and setting all the values to 0, because there were no NaNs in the Embarked column\n",
    "transformed_test_df[\"one_hot__Embarked_unknown\"] = 0\n",
    "\n",
    "# Reorder the dataFrame as the original, training one\n",
    "transformed_test_df = transformed_test_df[[\"one_hot__Sex_female\", \"one_hot__Sex_male\", \"one_hot__Embarked_C\", \"one_hot__Embarked_Q\", \"one_hot__Embarked_S\",\"one_hot__Embarked_unknown\",\"remainder__PassengerId\",\"remainder__Pclass\",\"remainder__Age\",\"remainder__SibSp\",\"remainder__Parch\",\"remainder__Fare\"]]"
   ]
  },
  {
   "cell_type": "markdown",
   "id": "15f80656",
   "metadata": {},
   "source": [
    "Now everything seems to be okay."
   ]
  },
  {
   "cell_type": "code",
   "execution_count": null,
   "id": "845c653a",
   "metadata": {},
   "outputs": [],
   "source": [
    "# Make predictions\n",
    "predictions = loaded_random_forest_clf.predict(transformed_test_df)\n",
    "predictions"
   ]
  },
  {
   "cell_type": "code",
   "execution_count": null,
   "id": "8e6ec6ec",
   "metadata": {},
   "outputs": [],
   "source": [
    "# Create a data frame so we can export predictions to .csv file later\n",
    "predictions_df = pd.DataFrame(columns=(\"PassengerId\", \"Survived\"))"
   ]
  },
  {
   "cell_type": "code",
   "execution_count": null,
   "id": "12ad52b0",
   "metadata": {},
   "outputs": [],
   "source": [
    "# Add data to the predictions_df and change values into integers\n",
    "predictions_df[\"PassengerId\"] = transformed_test_df[\"remainder__PassengerId\"].astype(int)\n",
    "predictions_df[\"Survived\"] = predictions.astype(int)"
   ]
  },
  {
   "cell_type": "code",
   "execution_count": null,
   "id": "ebb635fc",
   "metadata": {},
   "outputs": [],
   "source": [
    "predictions_df"
   ]
  },
  {
   "cell_type": "code",
   "execution_count": null,
   "id": "dc04ff30",
   "metadata": {},
   "outputs": [],
   "source": [
    "# Set the index od the data frame to PassengerId so that our data frame has the required shape \n",
    "predictions_df.set_index(\"PassengerId\", inplace=True)\n",
    "predictions_df"
   ]
  },
  {
   "cell_type": "code",
   "execution_count": null,
   "id": "76184bc8",
   "metadata": {},
   "outputs": [],
   "source": [
    "# Create a .csv file from the predictions_df \n",
    "#predictions_df.to_csv(\"predictions.csv\")"
   ]
  },
  {
   "cell_type": "markdown",
   "id": "ff1865d6",
   "metadata": {},
   "source": [
    "## The end\n",
    "\n",
    "In conclusion we have created a model with 93% accuracy. Here are some things that could be improved:\n",
    "* Changing `Sex` column into 1 if female and 0 if male (saving some space)\n",
    "* Adding optimizers to our models\n",
    "* Adding some data standarization function\n",
    "\n",
    "Thank You for reading!\n",
    "\n",
    "This notebook was made by Jakub Kuliński 03.05.2023 "
   ]
  }
 ],
 "metadata": {
  "kernelspec": {
   "display_name": "Python 3 (ipykernel)",
   "language": "python",
   "name": "python3"
  },
  "language_info": {
   "codemirror_mode": {
    "name": "ipython",
    "version": 3
   },
   "file_extension": ".py",
   "mimetype": "text/x-python",
   "name": "python",
   "nbconvert_exporter": "python",
   "pygments_lexer": "ipython3",
   "version": "3.10.4"
  }
 },
 "nbformat": 4,
 "nbformat_minor": 5
}
