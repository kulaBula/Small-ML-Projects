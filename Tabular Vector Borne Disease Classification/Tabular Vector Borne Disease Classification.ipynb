{
 "cells": [
  {
   "cell_type": "code",
   "execution_count": 38,
   "id": "f8e39db3",
   "metadata": {},
   "outputs": [],
   "source": [
    "# Import all the tools you will need\n",
    "\n",
    "import numpy as np\n",
    "import pandas as pd\n",
    "import matplotlib.pyplot as plt\n",
    "%matplotlib inline\n",
    "\n",
    "from sklearn.preprocessing import OneHotEncoder\n",
    "from sklearn.compose import ColumnTransformer\n",
    "\n",
    "from sklearn.model_selection import train_test_split, cross_val_score\n",
    "from sklearn.model_selection import GridSearchCV\n",
    "from sklearn.metrics import precision_score, recall_score\n",
    "from sklearn.metrics import average_precision_score"
   ]
  },
  {
   "cell_type": "code",
   "execution_count": 22,
   "id": "90cec0f0",
   "metadata": {},
   "outputs": [
    {
     "data": {
      "text/html": [
       "<div>\n",
       "<style scoped>\n",
       "    .dataframe tbody tr th:only-of-type {\n",
       "        vertical-align: middle;\n",
       "    }\n",
       "\n",
       "    .dataframe tbody tr th {\n",
       "        vertical-align: top;\n",
       "    }\n",
       "\n",
       "    .dataframe thead th {\n",
       "        text-align: right;\n",
       "    }\n",
       "</style>\n",
       "<table border=\"1\" class=\"dataframe\">\n",
       "  <thead>\n",
       "    <tr style=\"text-align: right;\">\n",
       "      <th></th>\n",
       "      <th>0</th>\n",
       "      <th>1</th>\n",
       "      <th>2</th>\n",
       "      <th>3</th>\n",
       "      <th>4</th>\n",
       "    </tr>\n",
       "  </thead>\n",
       "  <tbody>\n",
       "    <tr>\n",
       "      <th>id</th>\n",
       "      <td>0</td>\n",
       "      <td>1</td>\n",
       "      <td>2</td>\n",
       "      <td>3</td>\n",
       "      <td>4</td>\n",
       "    </tr>\n",
       "    <tr>\n",
       "      <th>sudden_fever</th>\n",
       "      <td>1.0</td>\n",
       "      <td>0.0</td>\n",
       "      <td>0.0</td>\n",
       "      <td>0.0</td>\n",
       "      <td>0.0</td>\n",
       "    </tr>\n",
       "    <tr>\n",
       "      <th>headache</th>\n",
       "      <td>1.0</td>\n",
       "      <td>0.0</td>\n",
       "      <td>1.0</td>\n",
       "      <td>0.0</td>\n",
       "      <td>0.0</td>\n",
       "    </tr>\n",
       "    <tr>\n",
       "      <th>mouth_bleed</th>\n",
       "      <td>0.0</td>\n",
       "      <td>0.0</td>\n",
       "      <td>1.0</td>\n",
       "      <td>1.0</td>\n",
       "      <td>0.0</td>\n",
       "    </tr>\n",
       "    <tr>\n",
       "      <th>nose_bleed</th>\n",
       "      <td>1.0</td>\n",
       "      <td>0.0</td>\n",
       "      <td>1.0</td>\n",
       "      <td>1.0</td>\n",
       "      <td>0.0</td>\n",
       "    </tr>\n",
       "    <tr>\n",
       "      <th>...</th>\n",
       "      <td>...</td>\n",
       "      <td>...</td>\n",
       "      <td>...</td>\n",
       "      <td>...</td>\n",
       "      <td>...</td>\n",
       "    </tr>\n",
       "    <tr>\n",
       "      <th>ulcers</th>\n",
       "      <td>0.0</td>\n",
       "      <td>0.0</td>\n",
       "      <td>0.0</td>\n",
       "      <td>0.0</td>\n",
       "      <td>1.0</td>\n",
       "    </tr>\n",
       "    <tr>\n",
       "      <th>toenail_loss</th>\n",
       "      <td>0.0</td>\n",
       "      <td>0.0</td>\n",
       "      <td>1.0</td>\n",
       "      <td>0.0</td>\n",
       "      <td>1.0</td>\n",
       "    </tr>\n",
       "    <tr>\n",
       "      <th>speech_problem</th>\n",
       "      <td>0.0</td>\n",
       "      <td>0.0</td>\n",
       "      <td>1.0</td>\n",
       "      <td>0.0</td>\n",
       "      <td>0.0</td>\n",
       "    </tr>\n",
       "    <tr>\n",
       "      <th>bullseye_rash</th>\n",
       "      <td>0.0</td>\n",
       "      <td>0.0</td>\n",
       "      <td>1.0</td>\n",
       "      <td>0.0</td>\n",
       "      <td>0.0</td>\n",
       "    </tr>\n",
       "    <tr>\n",
       "      <th>prognosis</th>\n",
       "      <td>Lyme_disease</td>\n",
       "      <td>Tungiasis</td>\n",
       "      <td>Lyme_disease</td>\n",
       "      <td>Zika</td>\n",
       "      <td>Rift_Valley_fever</td>\n",
       "    </tr>\n",
       "  </tbody>\n",
       "</table>\n",
       "<p>66 rows × 5 columns</p>\n",
       "</div>"
      ],
      "text/plain": [
       "                           0          1             2     3                  4\n",
       "id                         0          1             2     3                  4\n",
       "sudden_fever             1.0        0.0           0.0   0.0                0.0\n",
       "headache                 1.0        0.0           1.0   0.0                0.0\n",
       "mouth_bleed              0.0        0.0           1.0   1.0                0.0\n",
       "nose_bleed               1.0        0.0           1.0   1.0                0.0\n",
       "...                      ...        ...           ...   ...                ...\n",
       "ulcers                   0.0        0.0           0.0   0.0                1.0\n",
       "toenail_loss             0.0        0.0           1.0   0.0                1.0\n",
       "speech_problem           0.0        0.0           1.0   0.0                0.0\n",
       "bullseye_rash            0.0        0.0           1.0   0.0                0.0\n",
       "prognosis       Lyme_disease  Tungiasis  Lyme_disease  Zika  Rift_Valley_fever\n",
       "\n",
       "[66 rows x 5 columns]"
      ]
     },
     "execution_count": 22,
     "metadata": {},
     "output_type": "execute_result"
    }
   ],
   "source": [
    "# Load the data\n",
    "df = pd.read_csv(\"train.csv\")\n",
    "df.head().T"
   ]
  },
  {
   "cell_type": "code",
   "execution_count": 23,
   "id": "1965a145",
   "metadata": {},
   "outputs": [
    {
     "data": {
      "text/plain": [
       "id                0\n",
       "sudden_fever      0\n",
       "headache          0\n",
       "mouth_bleed       0\n",
       "nose_bleed        0\n",
       "                 ..\n",
       "ulcers            0\n",
       "toenail_loss      0\n",
       "speech_problem    0\n",
       "bullseye_rash     0\n",
       "prognosis         0\n",
       "Length: 66, dtype: int64"
      ]
     },
     "execution_count": 23,
     "metadata": {},
     "output_type": "execute_result"
    }
   ],
   "source": [
    "# The prognosis column can be turned into a categories \n",
    "# check if there are any missing values\n",
    "df.isna().sum()"
   ]
  },
  {
   "cell_type": "code",
   "execution_count": 24,
   "id": "bcd24e88",
   "metadata": {},
   "outputs": [
    {
     "data": {
      "text/plain": [
       "id                  int64\n",
       "sudden_fever      float64\n",
       "headache          float64\n",
       "mouth_bleed       float64\n",
       "nose_bleed        float64\n",
       "                   ...   \n",
       "ulcers            float64\n",
       "toenail_loss      float64\n",
       "speech_problem    float64\n",
       "bullseye_rash     float64\n",
       "prognosis          object\n",
       "Length: 66, dtype: object"
      ]
     },
     "execution_count": 24,
     "metadata": {},
     "output_type": "execute_result"
    }
   ],
   "source": [
    "df.dtypes"
   ]
  },
  {
   "cell_type": "code",
   "execution_count": 25,
   "id": "96b5f7e7",
   "metadata": {},
   "outputs": [
    {
     "name": "stdout",
     "output_type": "stream",
     "text": [
      "prognosis\n"
     ]
    }
   ],
   "source": [
    "for label, content in df.items():\n",
    "    if pd.api.types.is_string_dtype(content):\n",
    "        print(label)"
   ]
  },
  {
   "cell_type": "code",
   "execution_count": 26,
   "id": "d598d734",
   "metadata": {},
   "outputs": [
    {
     "name": "stdout",
     "output_type": "stream",
     "text": [
      "<class 'pandas.core.frame.DataFrame'>\n",
      "RangeIndex: 707 entries, 0 to 706\n",
      "Data columns (total 66 columns):\n",
      " #   Column                 Non-Null Count  Dtype   \n",
      "---  ------                 --------------  -----   \n",
      " 0   id                     707 non-null    int64   \n",
      " 1   sudden_fever           707 non-null    float64 \n",
      " 2   headache               707 non-null    float64 \n",
      " 3   mouth_bleed            707 non-null    float64 \n",
      " 4   nose_bleed             707 non-null    float64 \n",
      " 5   muscle_pain            707 non-null    float64 \n",
      " 6   joint_pain             707 non-null    float64 \n",
      " 7   vomiting               707 non-null    float64 \n",
      " 8   rash                   707 non-null    float64 \n",
      " 9   diarrhea               707 non-null    float64 \n",
      " 10  hypotension            707 non-null    float64 \n",
      " 11  pleural_effusion       707 non-null    float64 \n",
      " 12  ascites                707 non-null    float64 \n",
      " 13  gastro_bleeding        707 non-null    float64 \n",
      " 14  swelling               707 non-null    float64 \n",
      " 15  nausea                 707 non-null    float64 \n",
      " 16  chills                 707 non-null    float64 \n",
      " 17  myalgia                707 non-null    float64 \n",
      " 18  digestion_trouble      707 non-null    float64 \n",
      " 19  fatigue                707 non-null    float64 \n",
      " 20  skin_lesions           707 non-null    float64 \n",
      " 21  stomach_pain           707 non-null    float64 \n",
      " 22  orbital_pain           707 non-null    float64 \n",
      " 23  neck_pain              707 non-null    float64 \n",
      " 24  weakness               707 non-null    float64 \n",
      " 25  back_pain              707 non-null    float64 \n",
      " 26  weight_loss            707 non-null    float64 \n",
      " 27  gum_bleed              707 non-null    float64 \n",
      " 28  jaundice               707 non-null    float64 \n",
      " 29  coma                   707 non-null    float64 \n",
      " 30  diziness               707 non-null    float64 \n",
      " 31  inflammation           707 non-null    float64 \n",
      " 32  red_eyes               707 non-null    float64 \n",
      " 33  loss_of_appetite       707 non-null    float64 \n",
      " 34  urination_loss         707 non-null    float64 \n",
      " 35  slow_heart_rate        707 non-null    float64 \n",
      " 36  abdominal_pain         707 non-null    float64 \n",
      " 37  light_sensitivity      707 non-null    float64 \n",
      " 38  yellow_skin            707 non-null    float64 \n",
      " 39  yellow_eyes            707 non-null    float64 \n",
      " 40  facial_distortion      707 non-null    float64 \n",
      " 41  microcephaly           707 non-null    float64 \n",
      " 42  rigor                  707 non-null    float64 \n",
      " 43  bitter_tongue          707 non-null    float64 \n",
      " 44  convulsion             707 non-null    float64 \n",
      " 45  anemia                 707 non-null    float64 \n",
      " 46  cocacola_urine         707 non-null    float64 \n",
      " 47  hypoglycemia           707 non-null    float64 \n",
      " 48  prostraction           707 non-null    float64 \n",
      " 49  hyperpyrexia           707 non-null    float64 \n",
      " 50  stiff_neck             707 non-null    float64 \n",
      " 51  irritability           707 non-null    float64 \n",
      " 52  confusion              707 non-null    float64 \n",
      " 53  tremor                 707 non-null    float64 \n",
      " 54  paralysis              707 non-null    float64 \n",
      " 55  lymph_swells           707 non-null    float64 \n",
      " 56  breathing_restriction  707 non-null    float64 \n",
      " 57  toe_inflammation       707 non-null    float64 \n",
      " 58  finger_inflammation    707 non-null    float64 \n",
      " 59  lips_irritation        707 non-null    float64 \n",
      " 60  itchiness              707 non-null    float64 \n",
      " 61  ulcers                 707 non-null    float64 \n",
      " 62  toenail_loss           707 non-null    float64 \n",
      " 63  speech_problem         707 non-null    float64 \n",
      " 64  bullseye_rash          707 non-null    float64 \n",
      " 65  prognosis              707 non-null    category\n",
      "dtypes: category(1), float64(64), int64(1)\n",
      "memory usage: 360.2 KB\n"
     ]
    }
   ],
   "source": [
    "# Turn the prognosis column into categories\n",
    "for label, content in df.items():\n",
    "    if pd.api.types.is_string_dtype(content):\n",
    "        df[label] = content.astype(\"category\").cat.as_ordered()\n",
    "df.info()"
   ]
  },
  {
   "cell_type": "code",
   "execution_count": 27,
   "id": "3b96045f",
   "metadata": {},
   "outputs": [
    {
     "data": {
      "text/plain": [
       "Index(['Chikungunya', 'Dengue', 'Japanese_encephalitis', 'Lyme_disease',\n",
       "       'Malaria', 'Plague', 'Rift_Valley_fever', 'Tungiasis',\n",
       "       'West_Nile_fever', 'Yellow_Fever', 'Zika'],\n",
       "      dtype='object')"
      ]
     },
     "execution_count": 27,
     "metadata": {},
     "output_type": "execute_result"
    }
   ],
   "source": [
    "df.prognosis.cat.categories"
   ]
  },
  {
   "cell_type": "code",
   "execution_count": 31,
   "id": "86dfbe88",
   "metadata": {},
   "outputs": [],
   "source": [
    "# Split the data into X and Y\n",
    "X = df.drop(\"prognosis\", axis=1)\n",
    "y = df.prognosis"
   ]
  },
  {
   "cell_type": "code",
   "execution_count": 32,
   "id": "21d8da90",
   "metadata": {},
   "outputs": [],
   "source": [
    "# Split into train and test \n",
    "X_train, X_test, y_train, y_test = train_test_split(X, y, test_size=0.2)"
   ]
  },
  {
   "cell_type": "code",
   "execution_count": 33,
   "id": "a96ffb2e",
   "metadata": {},
   "outputs": [],
   "source": [
    "# Import all the models\n",
    "from sklearn.svm import LinearSVC\n",
    "from sklearn.linear_model import LogisticRegression\n",
    "from sklearn.neighbors import KNeighborsClassifier\n",
    "from sklearn.ensemble import RandomForestClassifier \n",
    "from sklearn.ensemble import AdaBoostClassifier"
   ]
  },
  {
   "cell_type": "code",
   "execution_count": 35,
   "id": "f07b67a3",
   "metadata": {},
   "outputs": [],
   "source": [
    "# Create a models dictionary\n",
    "models = {\"LinearSVC\": LinearSVC(),\n",
    "          \"LogisticRegression\": LogisticRegression(),\n",
    "          \"KNN\": KNeighborsClassifier(),\n",
    "          \"RandomForestCls\": RandomForestClassifier(),\n",
    "          \"AdaBoostClf\": AdaBoostClassifier()}\n",
    "baseline_results = {}"
   ]
  },
  {
   "cell_type": "markdown",
   "id": "bfad916a",
   "metadata": {},
   "source": [
    "Use this article to fix the bug below: \n",
    "\n",
    "https://towardsdatascience.com/mean-average-precision-at-k-map-k-clearly-explained-538d8e032d2"
   ]
  },
  {
   "cell_type": "code",
   "execution_count": 41,
   "id": "cb4a5cf3",
   "metadata": {},
   "outputs": [
    {
     "name": "stderr",
     "output_type": "stream",
     "text": [
      "C:\\Users\\jakub\\Small-ML-Projects\\env\\lib\\site-packages\\sklearn\\svm\\_base.py:1225: ConvergenceWarning: Liblinear failed to converge, increase the number of iterations.\n",
      "  warnings.warn(\n"
     ]
    },
    {
     "ename": "ValueError",
     "evalue": "multiclass format is not supported",
     "output_type": "error",
     "traceback": [
      "\u001b[1;31m---------------------------------------------------------------------------\u001b[0m",
      "\u001b[1;31mValueError\u001b[0m                                Traceback (most recent call last)",
      "Input \u001b[1;32mIn [41]\u001b[0m, in \u001b[0;36m<cell line: 1>\u001b[1;34m()\u001b[0m\n\u001b[0;32m      4\u001b[0m     \u001b[38;5;66;03m# Score the model\u001b[39;00m\n\u001b[0;32m      5\u001b[0m     predictions \u001b[38;5;241m=\u001b[39m model\u001b[38;5;241m.\u001b[39mpredict(X_test)\n\u001b[1;32m----> 6\u001b[0m     results[name] \u001b[38;5;241m=\u001b[39m np\u001b[38;5;241m.\u001b[39mmean(\u001b[43maverage_precision_score\u001b[49m\u001b[43m(\u001b[49m\u001b[43my_true\u001b[49m\u001b[43m \u001b[49m\u001b[38;5;241;43m=\u001b[39;49m\u001b[43m \u001b[49m\u001b[43my_test\u001b[49m\u001b[43m,\u001b[49m\u001b[43m \u001b[49m\u001b[43my_score\u001b[49m\u001b[43m \u001b[49m\u001b[38;5;241;43m=\u001b[39;49m\u001b[43m \u001b[49m\u001b[43mpredictions\u001b[49m\u001b[43m,\u001b[49m\u001b[43m \u001b[49m\u001b[43maverage\u001b[49m\u001b[38;5;241;43m=\u001b[39;49m\u001b[38;5;124;43m\"\u001b[39;49m\u001b[38;5;124;43mmicro\u001b[39;49m\u001b[38;5;124;43m\"\u001b[39;49m\u001b[43m)\u001b[49m)\n\u001b[0;32m      7\u001b[0m results\n",
      "File \u001b[1;32m~\\Small-ML-Projects\\env\\lib\\site-packages\\sklearn\\metrics\\_ranking.py:233\u001b[0m, in \u001b[0;36maverage_precision_score\u001b[1;34m(y_true, y_score, average, pos_label, sample_weight)\u001b[0m\n\u001b[0;32m    226\u001b[0m         \u001b[38;5;28;01mraise\u001b[39;00m \u001b[38;5;167;01mValueError\u001b[39;00m(\n\u001b[0;32m    227\u001b[0m             \u001b[38;5;124mf\u001b[39m\u001b[38;5;124m\"\u001b[39m\u001b[38;5;124mpos_label=\u001b[39m\u001b[38;5;132;01m{\u001b[39;00mpos_label\u001b[38;5;132;01m}\u001b[39;00m\u001b[38;5;124m is not a valid label. It should be \u001b[39m\u001b[38;5;124m\"\u001b[39m\n\u001b[0;32m    228\u001b[0m             \u001b[38;5;124mf\u001b[39m\u001b[38;5;124m\"\u001b[39m\u001b[38;5;124mone of \u001b[39m\u001b[38;5;132;01m{\u001b[39;00mpresent_labels\u001b[38;5;132;01m}\u001b[39;00m\u001b[38;5;124m\"\u001b[39m\n\u001b[0;32m    229\u001b[0m         )\n\u001b[0;32m    230\u001b[0m average_precision \u001b[38;5;241m=\u001b[39m partial(\n\u001b[0;32m    231\u001b[0m     _binary_uninterpolated_average_precision, pos_label\u001b[38;5;241m=\u001b[39mpos_label\n\u001b[0;32m    232\u001b[0m )\n\u001b[1;32m--> 233\u001b[0m \u001b[38;5;28;01mreturn\u001b[39;00m \u001b[43m_average_binary_score\u001b[49m\u001b[43m(\u001b[49m\n\u001b[0;32m    234\u001b[0m \u001b[43m    \u001b[49m\u001b[43maverage_precision\u001b[49m\u001b[43m,\u001b[49m\u001b[43m \u001b[49m\u001b[43my_true\u001b[49m\u001b[43m,\u001b[49m\u001b[43m \u001b[49m\u001b[43my_score\u001b[49m\u001b[43m,\u001b[49m\u001b[43m \u001b[49m\u001b[43maverage\u001b[49m\u001b[43m,\u001b[49m\u001b[43m \u001b[49m\u001b[43msample_weight\u001b[49m\u001b[38;5;241;43m=\u001b[39;49m\u001b[43msample_weight\u001b[49m\n\u001b[0;32m    235\u001b[0m \u001b[43m\u001b[49m\u001b[43m)\u001b[49m\n",
      "File \u001b[1;32m~\\Small-ML-Projects\\env\\lib\\site-packages\\sklearn\\metrics\\_base.py:72\u001b[0m, in \u001b[0;36m_average_binary_score\u001b[1;34m(binary_metric, y_true, y_score, average, sample_weight)\u001b[0m\n\u001b[0;32m     70\u001b[0m y_type \u001b[38;5;241m=\u001b[39m type_of_target(y_true)\n\u001b[0;32m     71\u001b[0m \u001b[38;5;28;01mif\u001b[39;00m y_type \u001b[38;5;129;01mnot\u001b[39;00m \u001b[38;5;129;01min\u001b[39;00m (\u001b[38;5;124m\"\u001b[39m\u001b[38;5;124mbinary\u001b[39m\u001b[38;5;124m\"\u001b[39m, \u001b[38;5;124m\"\u001b[39m\u001b[38;5;124mmultilabel-indicator\u001b[39m\u001b[38;5;124m\"\u001b[39m):\n\u001b[1;32m---> 72\u001b[0m     \u001b[38;5;28;01mraise\u001b[39;00m \u001b[38;5;167;01mValueError\u001b[39;00m(\u001b[38;5;124m\"\u001b[39m\u001b[38;5;132;01m{0}\u001b[39;00m\u001b[38;5;124m format is not supported\u001b[39m\u001b[38;5;124m\"\u001b[39m\u001b[38;5;241m.\u001b[39mformat(y_type))\n\u001b[0;32m     74\u001b[0m \u001b[38;5;28;01mif\u001b[39;00m y_type \u001b[38;5;241m==\u001b[39m \u001b[38;5;124m\"\u001b[39m\u001b[38;5;124mbinary\u001b[39m\u001b[38;5;124m\"\u001b[39m:\n\u001b[0;32m     75\u001b[0m     \u001b[38;5;28;01mreturn\u001b[39;00m binary_metric(y_true, y_score, sample_weight\u001b[38;5;241m=\u001b[39msample_weight)\n",
      "\u001b[1;31mValueError\u001b[0m: multiclass format is not supported"
     ]
    }
   ],
   "source": [
    "for name, model in models.items():\n",
    "    # Fit the model\n",
    "    model.fit(X_train, y_train); \n",
    "    # Score the model\n",
    "    predictions = model.predict(X_test)\n",
    "    results[name] = np.mean(average_precision_score(y_true = y_test, y_score = predictions, average=\"micro\"))\n",
    "results"
   ]
  },
  {
   "cell_type": "code",
   "execution_count": null,
   "id": "de7b5f68",
   "metadata": {},
   "outputs": [],
   "source": []
  }
 ],
 "metadata": {
  "kernelspec": {
   "display_name": "Python 3 (ipykernel)",
   "language": "python",
   "name": "python3"
  },
  "language_info": {
   "codemirror_mode": {
    "name": "ipython",
    "version": 3
   },
   "file_extension": ".py",
   "mimetype": "text/x-python",
   "name": "python",
   "nbconvert_exporter": "python",
   "pygments_lexer": "ipython3",
   "version": "3.10.4"
  }
 },
 "nbformat": 4,
 "nbformat_minor": 5
}
